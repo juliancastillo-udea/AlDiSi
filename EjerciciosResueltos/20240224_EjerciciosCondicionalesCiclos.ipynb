{
  "nbformat": 4,
  "nbformat_minor": 0,
  "metadata": {
    "colab": {
      "provenance": []
    },
    "kernelspec": {
      "name": "python3",
      "display_name": "Python 3"
    },
    "language_info": {
      "name": "python"
    }
  },
  "cells": [
    {
      "cell_type": "markdown",
      "source": [
        "<div>\n",
        "    <table>\n",
        "    <thead>\n",
        "    <tr>\n",
        "        <th colspan=\"2\">\n",
        "            <img alt=\"II\" height=\"200px\" src=\"https://raw.githubusercontent.com/juliancastillo-udea/AlDiSi/main/images/Logo%20AlDiSi_Horizontal%20UdeA%20II.png\" hspace=\"0px\" vspace=\"0px\">\n",
        "        </th>\n",
        "    </tr>\n",
        "    </thead>\n",
        "    <tbody>\n",
        "    <tr>\n",
        "        <td>\n",
        "            <br>\n",
        "            <p>Monitorias para las asignaturas de:<br>\n",
        "            <h3>Algoritmia y Programación, Dinámica de Sistemas y Simulación<br></h3></p><br>\n",
        "            <h1>Por: Julián Andrés Castillo G.</h1>\n",
        "            <h2><a href=\"mailto:jandres.castillo@udea.edu.co\"> ✉ Julian Andres Castillo Grisales </a></h2>\n",
        "        </td>\n",
        "        <td>\n",
        "            <img alt=\"CC\" height=\"70px\" src=\"https://raw.githubusercontent.com/juliancastillo-udea/2024-1-ProgramacionPosgrados/main/images/by.xlarge.png\" align=\"right\" hspace=\"0px\" vspace=\"0px\">\n",
        "            <img alt=\"Attribution\" height=\"70px\" src=\"https://raw.githubusercontent.com/juliancastillo-udea/2024-1-ProgramacionPosgrados/main/images/nc.xlarge.png\" align=\"right\" hspace=\"0px\" vspace=\"0px\">\n",
        "            <img alt=\"NC\" height=\"70px\" src=\"https://raw.githubusercontent.com/juliancastillo-udea/2024-1-ProgramacionPosgrados/main/images/sa.xlarge.png\" align=\"right\" hspace=\"0px\" vspace=\"0px\">\n",
        "            <img alt=\"SA\" height=\"70px\" src=\"https://raw.githubusercontent.com/juliancastillo-udea/2024-1-ProgramacionPosgrados/main/images/cc-icons.png\" align=\"right\" hspace=\"0px\" vspace=\"0px\">\n",
        "        </td>\n",
        "    </tr>\n",
        "    </tbody>\n",
        "    </table>\n",
        "</div>\n",
        "\n",
        "<br>\n",
        "\n",
        "**El presente recurso hace parte del programa [Ingeniería Industrial](https://www.udea.edu.co/wps/portal/udea/web/inicio/unidades-academicas/ingenieria/estudiar-facultad/pregrados/ingenieria-industrial) de la Facultad de Ingeniería de la Universidad de Antioquia.**\n",
        "\n",
        "# **Ejercicios para fortalecer los conocimientos adquiridos**\n",
        "*   **Ejercicios Secuenciales (3)**\n",
        "*   **Ejercicios de Estructuras Selectivas (3)**\n",
        "*   **Ejercicios de Estructuras Repetitivas (4)**"
      ],
      "metadata": {
        "id": "ZmiHx-h_eTlo"
      }
    },
    {
      "cell_type": "markdown",
      "source": [
        "## **Ejercicios Secuenciales**"
      ],
      "metadata": {
        "id": "m-xSCmNrkEY0"
      }
    },
    {
      "cell_type": "markdown",
      "source": [
        "### **`Ejercicio 1`**\n",
        "\n",
        "Construir un algoritmo que calcule el volumen de un [paralelepípedo](https://es.wikipedia.org/wiki/Paralelep%C3%ADpedo) rectangular.\n",
        "\n",
        "\n",
        "<img alt=\"SA\" height=\"150px\" src=\"https://www.calculartodo.com/geometria/imagenes/paralelepipedo-rectangular.png\" align=\"left\" hspace=\"0px\" vspace=\"0px\">"
      ],
      "metadata": {
        "id": "UM4hNhcijQ0Z"
      }
    },
    {
      "cell_type": "code",
      "source": [
        "# Ejercicio 1 - Solución.\n",
        "altura = float(input('Ingresar la altura: '))\n",
        "anchura = float(input('Ingresar la anchura: '))\n",
        "longitud = float(input('Ingresar la longitud: '))\n",
        "volumen = altura * anchura * longitud\n",
        "#fstrings\n",
        "print('El volumen de un paralelepipedo regular con los siguientes datos:')\n",
        "print(f'\\t{\"Altura\":<10} = {altura:>10,.2f}')\n",
        "print(f'\\t{\"Anchura\":<10} = {anchura:>10,.2f}')\n",
        "print(f'\\t{\"Longitud\":<10} = {longitud:>10,.2f}')\n",
        "print(f'Tiene un volumen de: {\"_\"*10}\\n\\t{\"Volumen\":<10} = {volumen:>10,.2f}')"
      ],
      "metadata": {
        "id": "F07Mi_-XkeLV",
        "colab": {
          "base_uri": "https://localhost:8080/"
        },
        "outputId": "730e6b53-4499-4c32-e895-bbf11474f773"
      },
      "execution_count": 2,
      "outputs": [
        {
          "output_type": "stream",
          "name": "stdout",
          "text": [
            "Ingresar la altura: 5\n",
            "Ingresar la anchura: 6\n",
            "Ingresar la longitud: 7\n",
            "El volumen de un paralelepipedo regular con los siguientes datos:\n",
            "\tAltura     =       5.00\n",
            "\tAnchura    =       6.00\n",
            "\tLongitud   =       7.00\n",
            "Tiene un volumen de: __________\n",
            "\tVolumen    =     210.00\n"
          ]
        }
      ]
    },
    {
      "cell_type": "markdown",
      "source": [
        "### **`Ejercicio 2`**\n",
        "\n",
        "Construir un algoritmo que calcule el área de un cubo.\n",
        "$Area =6\\ a^{2}$\n",
        "\n",
        "<img alt=\"SA\" height=\"150px\" src=\"https://3.bp.blogspot.com/-A5ozU9NDAEA/UN1MnT5XU4I/AAAAAAAALuw/oqtRAj2HV9U/s1600/Necker_cube.png\" align=\"left\" hspace=\"0px\" vspace=\"0px\">\n"
      ],
      "metadata": {
        "id": "uYQHPTm5kOlJ"
      }
    },
    {
      "cell_type": "code",
      "source": [
        "# Ejercicio 2 - Solución.\n",
        "arista = float(input('Ingresar el valor de la arista: '))\n",
        "area = 6*(arista**2) #math pow pow(arista,2)\n",
        "print(f'El volumen de un cubo regular con arista = {arista:,.2f} es igual a:')\n",
        "print(f'\\t{\"Area\":<10} = {area:>10,.2f}')"
      ],
      "metadata": {
        "id": "mUHGWVrhkelx",
        "colab": {
          "base_uri": "https://localhost:8080/"
        },
        "outputId": "40df8942-431c-47db-cf6f-bdbc17d10d73"
      },
      "execution_count": 3,
      "outputs": [
        {
          "output_type": "stream",
          "name": "stdout",
          "text": [
            "Ingresar el valor de la arista: 5\n",
            "El volumen de un cubo regular con arista = 5.00 es igual a:\n",
            "\tArea       =     150.00\n"
          ]
        }
      ]
    },
    {
      "cell_type": "markdown",
      "source": [
        "### **`Ejercicio 3`**\n",
        "\n",
        "Construir un algoritmo que calcule el área de una pirámide regular.\n",
        "\n",
        "$V=\\frac {\\ A_{b}\\ h}{3}$"
      ],
      "metadata": {
        "id": "H8qd8p1mkRTd"
      }
    },
    {
      "cell_type": "code",
      "source": [
        "# Ejercicio 3 - Solución para una base rectangular\n",
        "altura = float(input('Ingresar la altura del rectangulo: '))\n",
        "anchura = float(input('Ingresar la anchura del rectangulo: '))\n",
        "profundidad = float(input('Ingresar la profundidad: '))\n",
        "volumen = ((altura * anchura) * profundidad)/3\n",
        "print(f'El volumen de un una piramide rectangular con los siguientes datos:')\n",
        "print(f'\\t{\"Altura\":<15} = {altura:>10,.2f}')\n",
        "print(f'\\t{\"Anchura\":<15} = {anchura:>10,.2f}')\n",
        "print(f'\\t{\"profundidad\":<15} = {profundidad:>10,.2f}')\n",
        "print(f'Tiene un volumen de: {\"_\"*15}\\n\\t{\"Volumen\":<15} = {volumen:>10,.2f}')"
      ],
      "metadata": {
        "id": "CcwBa7NkkOAw",
        "colab": {
          "base_uri": "https://localhost:8080/"
        },
        "outputId": "6b271611-313a-425e-99e0-cb24d3bdb69d"
      },
      "execution_count": 4,
      "outputs": [
        {
          "output_type": "stream",
          "name": "stdout",
          "text": [
            "Ingresar la altura del rectangulo: 5\n",
            "Ingresar la anchura del rectangulo: 3\n",
            "Ingresar la profundidad: 4\n",
            "El volumen de un una piramide rectangular con los siguientes datos:\n",
            "\tAltura          =       5.00\n",
            "\tAnchura         =       3.00\n",
            "\tprofundidad     =       4.00\n",
            "Tiene un volumen de: _______________\n",
            "\tVolumen         =      20.00\n"
          ]
        }
      ]
    },
    {
      "cell_type": "markdown",
      "source": [
        "## **Ejercicios Estructuras Selectivas**"
      ],
      "metadata": {
        "id": "LzhdANrokcbJ"
      }
    },
    {
      "cell_type": "markdown",
      "metadata": {
        "id": "vCmGUn0-3OMa"
      },
      "source": [
        "### **`Ejercicio 4`**\n",
        "\n",
        "El impuesto predial en el Municipio de Medellín se calcula de acuerdo con el estrato socioeconómico y al avalúo catastral del inmueble. Realice un algoritmo que calcule el impuesto predial, basándose en el avalúo y el estrato, utilizando la siguiente tabla:\n",
        "\n",
        "Avalúo | Estrato 1 | Estrato 2 | Estrato 3 | Estrato 4 | Estrato 5 | Estrato 6\n",
        "---|---|---|---|---|---|---\n",
        "De 0 a 5.000.000 | 6 Por Mil | 7 Por Mil | 8 Por Mil | 9 Por Mil | 10 Por Mil | 11 Por Mil\n",
        "De 5.000.001 a 50.000.000 | 7 Por Mil | 8 Por Mil | 9 Por Mil | 10 Por Mil | 11 Por Mil | 12 Por Mil\n",
        "De 50.000.001 a 100000000 | 8 Por Mil | 9 Por Mil | 10 Por Mil | 11 Por Mil | 12 Por Mil | 13 Por Mil\n",
        "De 100.000.001 a 300000000 | 9 Por Mil | 10 Por Mil | 11 Por Mil | 12 Por Mil | 13 Por Mil | 14 Por Mil\n",
        "De 300.000.001 en adelante | 10 Por Mil | 11 Por Mil | 12 Por Mil | 13 Por Mil | 14 Por Mil | 15 Por Mil\n",
        "\n",
        "\n",
        "Nivel de dificultad:★★★★☆\n",
        "\n"
      ]
    },
    {
      "cell_type": "code",
      "source": [
        "estrato = 3 #@param {type:\"slider\", min:1, max:6, step:1}\n",
        "avaluo =  500000000#@param {type:\"integer\"}"
      ],
      "metadata": {
        "cellView": "form",
        "id": "rr7KLTCUyLuP"
      },
      "execution_count": 6,
      "outputs": []
    },
    {
      "cell_type": "code",
      "source": [
        "# Ejercicio 4 - Solución.\n",
        "if avaluo > 300000000:\n",
        "    match estrato:\n",
        "        case 6:\n",
        "            mil = 15\n",
        "        case 5:\n",
        "            mil = 14\n",
        "        case 4:\n",
        "            mil = 13\n",
        "        case 3:\n",
        "            mil = 12\n",
        "        case 2:\n",
        "            mil = 11\n",
        "        case 1:\n",
        "            mil = 10\n",
        "elif avaluo > 100000000:\n",
        "    match estrato:\n",
        "        case 6:\n",
        "            mil = 14\n",
        "        case 5:\n",
        "            mil = 13\n",
        "        case 4:\n",
        "            mil = 12\n",
        "        case 3:\n",
        "            mil = 11\n",
        "        case 2:\n",
        "            mil = 10\n",
        "        case 1:\n",
        "            mil = 9\n",
        "elif avaluo > 50000000:\n",
        "    match estrato:\n",
        "        case 6:\n",
        "            mil = 13\n",
        "        case 5:\n",
        "            mil = 12\n",
        "        case 4:\n",
        "            mil = 11\n",
        "        case 3:\n",
        "            mil = 10\n",
        "        case 2:\n",
        "            mil = 9\n",
        "        case 1:\n",
        "            mil = 8\n",
        "elif avaluo > 5000000:\n",
        "    match estrato:\n",
        "        case 6:\n",
        "            mil = 12\n",
        "        case 5:\n",
        "            mil = 11\n",
        "        case 4:\n",
        "            mil = 10\n",
        "        case 3:\n",
        "            mil = 9\n",
        "        case 2:\n",
        "            mil = 8\n",
        "        case 1:\n",
        "            mil = 7\n",
        "elif avaluo > 0:\n",
        "    match estrato:\n",
        "        case 6:\n",
        "            mil = 11\n",
        "        case 5:\n",
        "            mil = 10\n",
        "        case 4:\n",
        "            mil = 9\n",
        "        case 3:\n",
        "            mil = 8\n",
        "        case 2:\n",
        "            mil = 7\n",
        "        case 1:\n",
        "            mil = 6\n",
        "else:\n",
        "    print('Error, el avaluo no puede ser  inferior a cero')\n",
        "    mil = 0\n",
        "total = (avaluo / 1000) * mil\n",
        "print('El impuesto para una construcción con avalúo de: ${:,.0f} y estrato {} es de: ${:,.0f}'.format(avaluo, estrato, total))\n"
      ],
      "metadata": {
        "id": "ghMif1MHnbFq",
        "colab": {
          "base_uri": "https://localhost:8080/"
        },
        "outputId": "751b16ae-4e50-4eb9-f15a-3744e9a3e487"
      },
      "execution_count": 8,
      "outputs": [
        {
          "output_type": "stream",
          "name": "stdout",
          "text": [
            "El impuesto para una construcción con avalúo de: $500,000,000 y estrato 3 es de: $6,000,000\n"
          ]
        }
      ]
    },
    {
      "cell_type": "markdown",
      "source": [
        "### **`Ejercicio 5`**\n",
        "\n",
        "Construir un algoritmo que permita solucionar el siguiente problema: Un país calcula los impuestos a compras de la siguiente manera: los primeros \\$100.000 no causan impuesto, los siguientes \\$100.000 tienen el 25% de impuesto, el resto tienen el 40% de impuesto. Pero si el producto supera los \\$500.000 el ultimo rango se cobra el 50% de impuesto. Calcule el valor a pagar por impuesto, valor total y en caso de no tener que pagar impuesto, informarlo.\n",
        "\n",
        "Nivel de dificultad:★★★★☆"
      ],
      "metadata": {
        "id": "-z8X7JorjcQU"
      }
    },
    {
      "cell_type": "code",
      "source": [
        "# Ejercicio 5 - Solución.\n",
        "impuesto = 0\n",
        "valor_compra = int(input('Ingresar el valor de compra: '))\n",
        "if valor_compra > 500000:\n",
        "    impuesto = valor_compra - 500000\n",
        "    impuesto = impuesto * 0.5 + 200000 * 0.4 + 100000 * 0.25\n",
        "elif valor_compra > 200000:\n",
        "    impuesto = valor_compra - 200000\n",
        "    impuesto = impuesto * 0.4 + 100000 * 0.25\n",
        "elif valor_compra > 100000:\n",
        "    impuesto = valor_compra - 100000\n",
        "    impuesto = impuesto * 0.25\n",
        "else:\n",
        "    impuesto = 0\n",
        "\n",
        "print(f'El valor del impuesto a pagar para una compra de ${valor_compra:,.0f} es de ${impuesto:,.0f}')\n"
      ],
      "metadata": {
        "id": "NuT0ZOkGnixd",
        "colab": {
          "base_uri": "https://localhost:8080/"
        },
        "outputId": "e9d04a94-4ba0-4365-a438-c460fc2964bf"
      },
      "execution_count": 9,
      "outputs": [
        {
          "output_type": "stream",
          "name": "stdout",
          "text": [
            "Ingresar el valor de compra: 7000000\n",
            "El valor del impuesto a pagar para una compra de $7,000,000 es de $3,355,000\n"
          ]
        }
      ]
    },
    {
      "cell_type": "markdown",
      "source": [
        "### **`Ejercicio 6`**\n",
        "\n",
        "Construir un algoritmo que reciba tres números enteros y determinar cuál o cuales son los mas lejanos al promedio de estos.\n",
        "Nivel de dificultad:★★★★☆"
      ],
      "metadata": {
        "id": "D7v2sPT5j9WT"
      }
    },
    {
      "cell_type": "code",
      "source": [
        "# Ejercicio 6 - Solución.\n",
        "a = int(input('Ingresar un numero: '))\n",
        "b = int(input('Ingresar un numero: '))\n",
        "c = int(input('Ingresar un numero: '))\n",
        "promedio = (a+b+c)/3\n",
        "da = abs(a-promedio)\n",
        "db = abs(b-promedio)\n",
        "dc = abs(b-promedio)\n",
        "if da > db:\n",
        "    if da > dc:\n",
        "        print(f'el mas lejano al promedio {promedio:,.2f} es {a}')\n",
        "    elif da == dc:\n",
        "        print(f'el mas lejano al promedio {promedio:,.2f} es {a} y {c}')\n",
        "    else:\n",
        "        print(f'el mas lejano al promedio {promedio:,.2f} es {c}')\n",
        "else:\n",
        "    if da == db:\n",
        "        if da > dc:\n",
        "            print(f'el mas lejano al promedio {promedio:,.2f} es {a} y {b}')\n",
        "        elif da == dc:\n",
        "            print('todos son equidistantes a la media')\n",
        "        else:\n",
        "            print(f'el mas lejano al promedio {promedio:,.2f} es {c}')\n",
        "    elif db > dc:\n",
        "        print(f'el mas lejano al promedio {promedio:,.2f} es {b}')\n",
        "    elif db == dc:\n",
        "        print(f'el mas lejano al promedio {promedio:,.2f} es {b} y {c}')\n",
        "    else:\n",
        "        print(f'el mas lejano al promedio {promedio:,.2f} es {c}')"
      ],
      "metadata": {
        "id": "fleoAzo3j89_",
        "colab": {
          "base_uri": "https://localhost:8080/"
        },
        "outputId": "cbbc22a2-14de-47a8-e1ea-e75bc8fa9ad3"
      },
      "execution_count": 11,
      "outputs": [
        {
          "output_type": "stream",
          "name": "stdout",
          "text": [
            "Ingresar un numero: 1\n",
            "Ingresar un numero: 7\n",
            "Ingresar un numero: 8\n",
            "el mas lejano al promedio 5.33 es 1\n"
          ]
        }
      ]
    },
    {
      "cell_type": "markdown",
      "source": [
        "## **Ejercicios Estructuras Repetitivas**"
      ],
      "metadata": {
        "id": "l2jcwkGolHhm"
      }
    },
    {
      "cell_type": "markdown",
      "metadata": {
        "id": "l_tn0WTv_iIo"
      },
      "source": [
        "### **`Ejercicio 7`**\n",
        "\n",
        "Crear un algoritmo que pida al usuario una frase de al menos 10 caracteres y el programa muestra la cantidad de vocales en dicha frase.\n",
        "\n",
        "\n",
        "Nivel de dificultad:★★☆☆☆"
      ]
    },
    {
      "cell_type": "code",
      "source": [
        "# Ejercicio 7 - Solución.\n",
        "frase = input('Ingresar la frase: ')\n",
        "vc = 0 #Falta un validador, es comprobar que la frase sea superior a 10 caracteres es un condicional,\n",
        "for char in frase:\n",
        "    charlower = char.lower()\n",
        "    if charlower in 'aeiou':\n",
        "        vc += 1\n",
        "print(f'El numero de vocales en la frase es: {vc}')"
      ],
      "metadata": {
        "id": "fXUAIQ8Wlesx",
        "colab": {
          "base_uri": "https://localhost:8080/"
        },
        "outputId": "65c2b4e5-0f3d-4dea-f4f0-d48a854d011f"
      },
      "execution_count": 12,
      "outputs": [
        {
          "output_type": "stream",
          "name": "stdout",
          "text": [
            "Ingresar la frase: Falta un validador, es comprobar que la frase sea superior a 10 caracteres es un condicional\n",
            "El numero de vocales en la frase es: 34\n"
          ]
        }
      ]
    },
    {
      "cell_type": "markdown",
      "metadata": {
        "id": "EiCJWl3Y5wal"
      },
      "source": [
        "## **`Ejercicio 8`**\n",
        "\n",
        "Crear un algoritmo que pida al usuario un número N y nos imprima la secuencia de Fibonacci hasta el número ingresado.\n",
        "\n",
        "$F_n = F_{n-1} + F_{n-2}$\n",
        "\n",
        "\n",
        "Nivel de dificultad:★★☆☆☆"
      ]
    },
    {
      "cell_type": "code",
      "execution_count": 13,
      "metadata": {
        "id": "8hSXRMHr5wal",
        "colab": {
          "base_uri": "https://localhost:8080/"
        },
        "outputId": "f021b9eb-31c2-4c62-b5f7-622d95f681b8"
      },
      "outputs": [
        {
          "output_type": "stream",
          "name": "stdout",
          "text": [
            "Ingresar un numero: 5\n",
            "La secuencia de Fibonacci hasta el número 5 es:\n",
            "\t [0, 1, 1, 2, 3, 5]\n"
          ]
        }
      ],
      "source": [
        "# Ejercicio 8 - Solución.\n",
        "numero = int(input('Ingresar un numero: '))\n",
        "anterior = 0\n",
        "actual = 1\n",
        "fibonacci = []\n",
        "fibonacci.append(anterior)\n",
        "while actual <= numero:\n",
        "    fibonacci.append(actual)\n",
        "    nuevo = anterior +actual\n",
        "    anterior = actual\n",
        "    actual = nuevo\n",
        "print(f'La secuencia de Fibonacci hasta el número {numero} es:')\n",
        "print('\\t', fibonacci)"
      ]
    },
    {
      "cell_type": "markdown",
      "metadata": {
        "id": "1wSOxZwE8qET"
      },
      "source": [
        "## **`Ejercicio 9`**\n",
        "\n",
        "Crear un algoritmo que pida al usuario números hasta que ingrese el numero cero e imprima el mayor y menor número de la lista. Nota: No se puede usar `max`,`min` o `sort`.\n",
        "\n",
        "\n",
        "Nivel de dificultad:★★☆☆☆"
      ]
    },
    {
      "cell_type": "code",
      "source": [
        "largest = float('-inf')\n",
        "smallest = float('inf')"
      ],
      "metadata": {
        "id": "X5Be5oXHIB1X"
      },
      "execution_count": 14,
      "outputs": []
    },
    {
      "cell_type": "code",
      "execution_count": 20,
      "metadata": {
        "id": "K7sH2UyP8qEU",
        "colab": {
          "base_uri": "https://localhost:8080/"
        },
        "outputId": "907e8c2c-338f-4594-aed5-6b08c1d7394e"
      },
      "outputs": [
        {
          "output_type": "stream",
          "name": "stdout",
          "text": [
            "Ingresar un numero: 1\n",
            "Ingresar un numero: 2\n",
            "Ingresar un numero: 3\n",
            "Ingresar un numero: 4\n",
            "Ingresar un numero: 5\n",
            "Ingresar un numero: 0\n",
            "El numero mas grande es: 5.0\n",
            "El numero mas pequeño es: 1.0\n"
          ]
        }
      ],
      "source": [
        "# Ejercicio 9 - Solución.\n",
        "largest = float('-inf')\n",
        "smallest = float('inf')\n",
        "while True: #Esto es satanas pero por el momento lo haremos así\n",
        "    number = float(input('Ingresar un numero: '))\n",
        "    if number == 0:\n",
        "        break\n",
        "    if number > largest:\n",
        "        largest = number\n",
        "    if number < smallest:\n",
        "        smallest = number\n",
        "if largest != float('-inf') and smallest != float('inf'):\n",
        "    print(f'El numero mas grande es: {largest}')\n",
        "    print(f'El numero mas pequeño es: {smallest}')\n",
        "else:\n",
        "    print('No ingresaste numeros, 😒')"
      ]
    },
    {
      "cell_type": "markdown",
      "metadata": {
        "id": "x8cPydJqUGok"
      },
      "source": [
        "### **`Ejercicio 10`**\n",
        "\n",
        "Realizar un algoritmo que calcule la varianza de cinco números ingresados por teclado. La varianza, que se denota con $\\sigma^{2}$, es:\n",
        "\n",
        "Cálculo de la varianza\n",
        "\n",
        "$\\large\\sigma^{2} = \\frac{\\sum_{i=1}^{n} (x_{i}-\\overline{x})^{2}}{n} $\n",
        "\n",
        "\n",
        "Recordemos el cálculo de la media.\n",
        "\n",
        "$\\large\\overline{x} = \\frac{\\sum_{i=1}^{n} x_{i}}{n}$\n",
        "\n",
        "Nivel de dificultad:★★★☆☆"
      ]
    },
    {
      "cell_type": "code",
      "execution_count": 21,
      "metadata": {
        "id": "6oQxf9i26kYs",
        "colab": {
          "base_uri": "https://localhost:8080/"
        },
        "outputId": "1fe5cd3f-f9e5-49d1-b2d8-bfaab58c4b6d"
      },
      "outputs": [
        {
          "output_type": "stream",
          "name": "stdout",
          "text": [
            "Ingresar el numero: 1\n",
            "Ingresar el numero: 5\n",
            "Ingresar el numero: 6\n",
            "Ingresar el numero: 7\n",
            "Ingresar el numero: 5\n",
            "La varianza es: 4.16\n"
          ]
        }
      ],
      "source": [
        "# Ejercicio 10 - Solución.\n",
        "x = []\n",
        "for i in range(5):\n",
        "    x.append(float(input('Ingresar el numero: ')))\n",
        "promedio = sum(x)/len(x)\n",
        "suma = 0\n",
        "for y in x:\n",
        "    suma += (y-promedio)**2\n",
        "varianza = suma/len(x)\n",
        "print('La varianza es:', varianza)"
      ]
    }
  ]
}