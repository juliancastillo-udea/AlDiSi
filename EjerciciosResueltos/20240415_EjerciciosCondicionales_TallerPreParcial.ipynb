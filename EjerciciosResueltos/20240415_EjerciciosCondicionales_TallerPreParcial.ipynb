{
  "nbformat": 4,
  "nbformat_minor": 0,
  "metadata": {
    "colab": {
      "provenance": []
    },
    "kernelspec": {
      "name": "python3",
      "display_name": "Python 3"
    },
    "language_info": {
      "name": "python"
    }
  },
  "cells": [
    {
      "cell_type": "markdown",
      "source": [
        "<div align=\"center\">\n",
        "<table>\n",
        "    <thead>\n",
        "        <tr>\n",
        "            <td rowspan=\"3\">\n",
        "                <br>\n",
        "            </td>\n",
        "            <td align=\"center\">\n",
        "                <br>\n",
        "            </td>\n",
        "            <td rowspan=\"3\">\n",
        "                <br>\n",
        "            </td>\n",
        "        </tr>\n",
        "        <tr>\n",
        "            <td align=\"center\">\n",
        "                <h1><b>Taller de ejercicios PreParcial de Condicionales</b></h1>\n",
        "            </td>\n",
        "        </tr>\n",
        "        <tr>\n",
        "            <td>\n",
        "                <img align=\"center\" alt=\"I&S\" height=\"135px\" src=\"https://raw.githubusercontent.com/juliancastillo-udea/AlDiSi/main/images/Logo%20AlDiSi_Horizontal%20UdeA%20II.png\" hspace=\"10px\" vspace=\"0px\">\n",
        "            </td>\n",
        "        </tr>\n",
        "    </thead>\n",
        "</table>\n",
        "\n",
        "</div>\n",
        "\n",
        "<hr size=10 noshade color=\"green\">\n",
        "<p>\n",
        "<img alt=\"CC\" height=\"70px\" src=\"https://raw.githubusercontent.com/juliancastillo-udea/2024-1-ProgramacionPosgrados/main/images/by.xlarge.png\" align=\"left\" hspace=\"0px\" vspace=\"0px\">\n",
        "<img alt=\"Attribution\" height=\"70px\" src=\"https://raw.githubusercontent.com/juliancastillo-udea/2024-1-ProgramacionPosgrados/main/images/nc.xlarge.png\" align=\"left\" hspace=\"0px\" vspace=\"0px\">\n",
        "<img alt=\"NC\" height=\"70px\" src=\"https://raw.githubusercontent.com/juliancastillo-udea/2024-1-ProgramacionPosgrados/main/images/sa.xlarge.png\" align=\"left\" hspace=\"0px\" vspace=\"0px\">\n",
        "<img alt=\"SA\" height=\"70px\" src=\"https://raw.githubusercontent.com/juliancastillo-udea/2024-1-ProgramacionPosgrados/main/images/cc-icons.png\" align=\"left\" hspace=\"0px\" vspace=\"0px\">\n",
        "</p>\n",
        "\n",
        "<div align=\"right\">\n",
        "<h2> <b> Por: Julián Andrés Castillo G. </b> </h2>\n",
        "<a href=\"mailto:jandres.castillo@udea.edu.co\"> ✉ Julian Andres Castillo Grisales </a>\n",
        "<h2> <b> Por: Yony Fernando Ceballos. </b> </h2>\n",
        "<a href=\"mailto:yony.ceballos@udea.edu.co\"> ✉ Yony Fernando Ceballos </a>\n",
        "</div>\n",
        "\n",
        "<br>\n"
      ],
      "metadata": {
        "id": "Db_EFQ4UGixV"
      }
    },
    {
      "cell_type": "markdown",
      "source": [
        "# **Ejercicios Propuestos**\n",
        "\n",
        "Nivel de dificultad:★★☆☆☆\n",
        "\n",
        "1.\tConstruir un algoritmo que reciba tres números enteros y determinar cuál o cuales son los mas lejanos al promedio de estos. ★★★★★\n",
        "\n",
        "2.\tConstruir un algoritmo que reciba tres números y determine cuales son pares e impares. Si todos son impares mostrar el mensaje “That’s odd”. ★★☆☆☆\n",
        "\n",
        "3.\tConstruir un algoritmo que reciba cuatro números y determinar si su suma es positiva, negativa o es cero. ★★☆☆☆\n",
        "\n",
        "4.\tConstruir un algoritmo que reciba tres valores y determinar si estos pueden construir un triángulo (La suma de dos lados debe ser siempre mayor que el lado restante). ★★☆☆☆\n",
        "\n",
        "5.\tConstruir un algoritmo que lea la fecha de nacimiento de un usuario usando formularios y determinar si es mayor de edad y si nació en un año bisiesto o no. ★★★☆☆\n",
        "\n",
        "6.\tConstruir un algoritmo que reciba las cinco notas de un curso y sus respectivos porcentajes, validar que los porcentajes sumen cien, que las notas se encuentren entre 0 y 5 inclusive y luego determinar si el curso se ha ganado, perdido, pero habilitable o perdido sin habilitación. ★★★☆☆\n",
        "\n",
        "7.\tConstruir un algoritmo que reciba el día de la semana (lunes, martes, …, etc.) y determinar si es día hábil o fin de semana. ★☆☆☆☆\n",
        "\n",
        "8.\tConstruir un algoritmo que reciba los datos necesarios para calcular el índice de masa corporal (ver ejercicios secuenciales, ya resuelto) y determinar si corresponde a peso bajo, peso normal, sobrepeso, obesidad leve, obesidad media u obesidad mórbida. Se pueden tomar los datos de la siguiente fuente [URL](https://www.topdoctors.mx/diccionario-medico/indice-de-masa-corporal-imc/ )  ★★★☆☆\n",
        "\n",
        "9.\tConstruya un algoritmo que calcule el incremento de salario de una persona dependiendo de la categoría a la cual pertenezca, utilice la tabla a continuación para determinar el valor a incrementar (Utilizar match-case.). ★★★☆☆\n",
        "\n",
        "<center>\n",
        "<div>\n",
        "<table>\n",
        "<thead>\n",
        "  <tr>\n",
        "    <th>Categoría</th>\n",
        "    <th>Incremento</th>\n",
        "  </tr>\n",
        "</thead>\n",
        "<tbody>\n",
        "  <tr>\n",
        "    <td>A</td>\n",
        "    <td>10%</td>\n",
        "  </tr>\n",
        "  <tr>\n",
        "    <td>B</td>\n",
        "    <td>15%</td>\n",
        "  </tr>\n",
        "  <tr>\n",
        "    <td>C</td>\n",
        "    <td>20%</td>\n",
        "  </tr>\n",
        "  <tr>\n",
        "    <td>D</td>\n",
        "    <td>25%</td>\n",
        "  </tr>\n",
        "</tbody>\n",
        "</table>\n",
        "</div>\n",
        "</center>\n",
        "\n",
        "10.\t Construir un algoritmo que permita solucionar el siguiente problema: Un país calcula los impuestos a compras de la siguiente manera: los primeros \\$100.000 no causan impuesto, los siguientes \\$100.000 tienen el 25% de impuesto, el resto tienen el 40% de impuesto. Pero si el producto supera los \\$500.000 el ultimo rango se cobra el 50% de impuesto. Calcule el valor a pagar por impuesto, valor total y en caso de no tener que pagar impuesto, informarlo. ★★★★☆\n",
        "\n",
        "11.\tConstruir un algoritmo que dados tres números reales identifique cual o cuales (solo dos) son el mayor. Considere que los números puedes ser iguales y notificar el estado final. ★★★★★\n"
      ],
      "metadata": {
        "id": "tnHorcSOSGkz"
      }
    },
    {
      "cell_type": "markdown",
      "source": [
        "## **`Ejercicio 10`**\n",
        "\n",
        "Construir un algoritmo que permita solucionar el siguiente problema: Un país calcula los impuestos a compras de la siguiente manera: los primeros \\$100.000 no causan impuesto, los siguientes \\$100.000 tienen el 25% de impuesto, el resto tienen el 40% de impuesto. Pero si el producto supera los \\$500.000 el ultimo rango se cobra el 50% de impuesto. Calcule el valor a pagar por impuesto, valor total y en caso de no tener que pagar impuesto, informarlo. ★★★★☆"
      ],
      "metadata": {
        "id": "KyaDRAUXYm5-"
      }
    },
    {
      "cell_type": "code",
      "source": [
        "impuesto = 0\n",
        "valor_compra = int(input('Ingresar el valor de la compra: '))\n",
        "if valor_compra > 500000:\n",
        "    impuesto = valor_compra - 500000\n",
        "    impuesto = impuesto * 0.5 + 200000*0.4 + 100000 *0.25\n",
        "elif valor_compra > 200000:\n",
        "    impuesto = valor_compra - 200000\n",
        "    impuesto = impuesto * 0.4 + 10000 * 0.25\n",
        "elif valor_compra > 100000:\n",
        "    impuesto = valor_compra\n",
        "    impuesto = impuesto * 0.25\n",
        "else:\n",
        "    impuesto = 0\n",
        "    print('Error en el calculo del impuesto')\n",
        "print(f'El valor a pagar por un total de compra de: ${valor_compra:,.0f}')\n",
        "print(f'\\t--> {impuesto:,.0f}')"
      ],
      "metadata": {
        "colab": {
          "base_uri": "https://localhost:8080/"
        },
        "id": "lkHs-w_5am5s",
        "outputId": "0a472e28-c621-4129-fded-8e9a56a4ea01"
      },
      "execution_count": 1,
      "outputs": [
        {
          "output_type": "stream",
          "name": "stdout",
          "text": [
            "Ingresar el valor de la compra: 650000\n",
            "El valor a pagar por un total de compra de: $650,000\n",
            "\t--> 180,000\n"
          ]
        }
      ]
    },
    {
      "cell_type": "markdown",
      "source": [
        "## **`Ejercicio 11`**\n",
        "\n",
        "Construir un algoritmo que dados tres números reales identifique cual o cuales (solo dos) son el mayor. Considere que los números puedes ser iguales y notificar el estado final. ★★★★★"
      ],
      "metadata": {
        "id": "oNTxuh-6Zkd-"
      }
    },
    {
      "cell_type": "code",
      "source": [
        "print('Favor ingresar tres numeros enteros, a, b y c: Gracias 😃')\n",
        "a = int(input('Ingresar a: '))\n",
        "b = int(input('Ingresar b: '))\n",
        "c = int(input('Ingresar c: '))\n",
        "if a>b: #en todo este bloque a es mayor que b\n",
        "    if a>c:\n",
        "        print(f'El mayor es {a}')\n",
        "    elif a == c:\n",
        "        print(f'Tanto a como c son los mayores a-->{a} y c-->{c}')\n",
        "    else:\n",
        "        print(f'El mayor es {c}')\n",
        "else:\n",
        "    #Todo este bloque a no es mayor que b\n",
        "    if a == b:\n",
        "        if a > c:\n",
        "            print(f'Tanto a como b son los mayores a-->{a} y b-->{b}')\n",
        "        elif a == c:\n",
        "            print('Todos son iguales')\n",
        "        else:\n",
        "            print(f'El mayor es {c}')\n",
        "    elif b > c:\n",
        "        print(f'El mayor es {b}')\n",
        "    elif b == c:\n",
        "        print(f'Tanto b como c son los mayores b-->{b} y c-->{c}')\n",
        "    else:\n",
        "        print(f'El mayor es {c}')"
      ],
      "metadata": {
        "colab": {
          "base_uri": "https://localhost:8080/"
        },
        "id": "Th2_y7Oqby6_",
        "outputId": "0f4707ad-dc35-4852-b935-038b7ba629a5"
      },
      "execution_count": 4,
      "outputs": [
        {
          "output_type": "stream",
          "name": "stdout",
          "text": [
            "Favor ingresar tres numeros enteros, a, b y c: Gracias 😃\n",
            "Ingresar a: 3\n",
            "Ingresar b: 3\n",
            "Ingresar c: 3\n",
            "Todos son iguales\n"
          ]
        }
      ]
    },
    {
      "cell_type": "markdown",
      "source": [],
      "metadata": {
        "id": "eBdiGzTccstp"
      }
    }
  ]
}