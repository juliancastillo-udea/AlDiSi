{
  "nbformat": 4,
  "nbformat_minor": 0,
  "metadata": {
    "colab": {
      "provenance": []
    },
    "kernelspec": {
      "name": "python3",
      "display_name": "Python 3"
    },
    "language_info": {
      "name": "python"
    }
  },
  "cells": [
    {
      "cell_type": "markdown",
      "metadata": {
        "id": "1ZzU7Sm9e_Gi"
      },
      "source": [
        "<table>\n",
        "<thead>\n",
        "  <tr>\n",
        "    <th><img alt=\"UdeA\" height=\"150px\" src=\"https://upload.wikimedia.org/wikipedia/commons/archive/f/fb/20161010213812%21Escudo-UdeA.svg\" align=\"left\" hspace=\"10px\" vspace=\"0px\"></th>\n",
        "    <th><h1> <b> Implementación del algoritmo SHA-1 \"HASH Function\" </b> </h1></th>\n",
        "    <th><img alt=\"CC\" height=\"80px\" src=\"https://raw.githubusercontent.com/juliancastillo-udea/AlDiSi/refs/heads/main/Git/images/IyS.png\" align=\"right\" hspace=\"0px\" vspace=\"0px\"></th>\n",
        "  </tr>\n",
        "</thead>\n",
        "<hr size=10 noshade color=\"green\">\n",
        "</table>\n",
        "<hr size=10 noshade color=\"green\">\n",
        "\n",
        "<p>\n",
        "<img alt=\"CC\" height=\"70px\" src=\"https://creativecommons.org/images/deed/cc_blue_x2.png\" align=\"left\" hspace=\"0px\" vspace=\"0px\">\n",
        "<img alt=\"Attribution\" height=\"70px\" src=\"https://creativecommons.org/images/deed/attribution_icon_blue_x2.png\" align=\"left\" hspace=\"0px\" vspace=\"0px\">\n",
        "<img alt=\"NC\" height=\"70px\" src=\"https://creativecommons.org/images/deed/nc_blue_x2.png\" align=\"left\" hspace=\"0px\" vspace=\"0px\">\n",
        "<img alt=\"SA\" height=\"70px\" src=\"https://creativecommons.org/images/deed/sa_blue_x2.png\" align=\"left\" hspace=\"0px\" vspace=\"0px\">\n",
        "</p>\n",
        "\n",
        "<div align=\"right\">\n",
        "<h2> <b> Por: Julián Andrés Castillo G. </b> </h2>\n",
        "<a href=\"mailto:jandres.castillo@udea.edu.co\"> ✉ Julian Andres Castillo Grisales </a>\n",
        "</div><br><br>\n",
        "\n",
        "<br>\n",
        "\n",
        "**El presente documento hace parte del grupo de Investigación Ingeniería & Sociedad - Jornada de Conferencias.**"
      ]
    },
    {
      "cell_type": "code",
      "metadata": {
        "colab": {
          "base_uri": "https://localhost:8080/"
        },
        "id": "k0eXJfT0ezXQ",
        "outputId": "80cda3a2-ff15-4cd0-e1e9-58ee34d3141e"
      },
      "source": [
        "import hashlib\n",
        "def hash_sha1(texto:str):\n",
        "    resultado = hashlib.sha1(texto.encode())\n",
        "    memoria = resultado.copy()\n",
        "    resultado = resultado.hexdigest()\n",
        "    return memoria, resultado\n",
        "posibles = [\"Ingenieria y Sociedad\", \"Ingenieria & Sociedad\", \"Ingeniería & Sociedad\"]\n",
        "dicIngSoc = {}\n",
        "for i in posibles:\n",
        "    dicIngSoc[i] = hash_sha1(i)\n",
        "for x in dicIngSoc:\n",
        "    print(\"Texto: \", x)\n",
        "    print(\"Posición en Memoria -> \", dicIngSoc[x][0])\n",
        "    print(\"El valor hexadecimal de SHA1 es ->\", dicIngSoc[x][1])\n",
        "    print(\"El largo de la cadena Hash es de\", len(dicIngSoc[x][1]), \"caracteres\")\n",
        "    print('*'*115)"
      ],
      "execution_count": 6,
      "outputs": [
        {
          "output_type": "stream",
          "name": "stdout",
          "text": [
            "Texto:  Ingenieria y Sociedad\n",
            "Posición en Memoria ->  <sha1 _hashlib.HASH object @ 0x7a5973928550>\n",
            "El valor hexadecimal de SHA1 es -> 8588b58bd1c2b1eaf09a7b3ff654da34f91d5830\n",
            "El largo de la cadena Hash es de 40 caracteres\n",
            "*******************************************************************************************************************\n",
            "Texto:  Ingenieria & Sociedad\n",
            "Posición en Memoria ->  <sha1 _hashlib.HASH object @ 0x7a59739286f0>\n",
            "El valor hexadecimal de SHA1 es -> 78ca7c40c15d1305d5de5bbd2356ea7fa1945228\n",
            "El largo de la cadena Hash es de 40 caracteres\n",
            "*******************************************************************************************************************\n",
            "Texto:  Ingeniería & Sociedad\n",
            "Posición en Memoria ->  <sha1 _hashlib.HASH object @ 0x7a5973928730>\n",
            "El valor hexadecimal de SHA1 es -> 4a572a857b0ac7648d1f4819a5227a806ee508bd\n",
            "El largo de la cadena Hash es de 40 caracteres\n",
            "*******************************************************************************************************************\n"
          ]
        }
      ]
    },
    {
      "cell_type": "markdown",
      "metadata": {
        "id": "D5n-srWqhdJH"
      },
      "source": [
        "Texto:  Ingenieria y Sociedad\n",
        "Posición en Memoria ->  <sha1 _hashlib.HASH object @ 0x7a5973928550>\n",
        "El valor hexadecimal de SHA1 es -> 8588b58bd1c2b1eaf09a7b3ff654da34f91d5830\n",
        "El largo de la cadena Hash es de 40 caracteres\n",
        "*******************************************************************************************************************\n",
        "Texto:  Ingenieria & Sociedad\n",
        "Posición en Memoria ->  <sha1 _hashlib.HASH object @ 0x7a59739286f0>\n",
        "El valor hexadecimal de SHA1 es -> 78ca7c40c15d1305d5de5bbd2356ea7fa1945228\n",
        "El largo de la cadena Hash es de 40 caracteres\n",
        "*******************************************************************************************************************\n",
        "Texto:  Ingeniería & Sociedad\n",
        "Posición en Memoria ->  <sha1 _hashlib.HASH object @ 0x7a5973928730>\n",
        "El valor hexadecimal de SHA1 es -> 4a572a857b0ac7648d1f4819a5227a806ee508bd\n",
        "El largo de la cadena Hash es de 40 caracteres\n",
        "*******************************************************************************************************************"
      ]
    },
    {
      "cell_type": "code",
      "metadata": {
        "colab": {
          "base_uri": "https://localhost:8080/"
        },
        "id": "aRSmnuC9kHeF",
        "outputId": "3c529f17-c76d-436e-c06e-e7477c42c7f5"
      },
      "source": [
        "cadena1 = '8588b58bd1c2b1eaf09a7b3ff654da34f91d5830' # --> “Ingenieria y Sociedad”\n",
        "cadena2 = '862603d2331383690354d232f16fc073ab1d17e7' # --> “Ingeniería y Sociedad”\n",
        "#Comparemos las cadenas una a una luego de ver su tipo de datos\n",
        "print(type(cadena1))\n",
        "print(type(cadena2))\n",
        "igualdadposicional = 0\n",
        "for i in range(len(cadena1)):\n",
        "    if cadena1[i] == cadena2[i]:\n",
        "        igualdadposicional +=1\n",
        "print('Total de posiciones iguales: {} de un total de 40'.format(igualdadposicional))\n",
        "print('\\tEsto equivale a un {:,.2f}%'.format(igualdadposicional/len(cadena1)*100))"
      ],
      "execution_count": 4,
      "outputs": [
        {
          "output_type": "stream",
          "name": "stdout",
          "text": [
            "<class 'str'>\n",
            "<class 'str'>\n",
            "Total de posiciones iguales: 5 de un total de 40\n",
            "\tEsto equivale a un 12.50%\n"
          ]
        }
      ]
    }
  ]
}