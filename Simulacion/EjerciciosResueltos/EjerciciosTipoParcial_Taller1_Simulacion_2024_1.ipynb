{
  "cells": [
    {
      "cell_type": "markdown",
      "metadata": {
        "id": "GrZp46Tz-MNU"
      },
      "source": [
        "<div>\n",
        "<table>\n",
        "    <thead align=\"center\">\n",
        "        <tr>\n",
        "            <td rowspan=\"3\">\n",
        "                <img alt=\"UdeA\" height=\"200px\" src=\"https://raw.githubusercontent.com/juliancastillo-udea/2024-1-ProgramacionPosgrados/main/images/Escudo-UdeA.svg\" hspace=\"10px\" vspace=\"0px\">\n",
        "            </td>\n",
        "            <td>\n",
        "                <h1><b> </b></h1>\n",
        "            </td>\n",
        "            <td rowspan=\"3\">\n",
        "                <img alt=\"II\" height=\"200px\" src=\"https://upload.wikimedia.org/wikipedia/commons/thumb/b/b9/Ingenier%C3%ADa_Industrial_UdeA.png/1026px-Ingenier%C3%ADa_Industrial_UdeA.png\" hspace=\"0px\" vspace=\"0px\">\n",
        "            </td>\n",
        "        </tr>\n",
        "        <tr>\n",
        "            <td>\n",
        "                <h1><b>Unidad 1</b></h1>\n",
        "                <h1><b>Introducción a la Simulación y Montecarlo</b></h1>\n",
        "                <h1><b>Ejercicios Unidad 1 (Cardio Montecarlo)</b></h1>\n",
        "            </td>\n",
        "        </tr>\n",
        "        <tr>\n",
        "            <td>\n",
        "                <img alt=\"I&S\" height=\"135px\" src=\"https://raw.githubusercontent.com/juliancastillo-udea/2024-1-ProgramacionPosgrados/main/images/IS.png\" hspace=\"10px\" vspace=\"0px\">\n",
        "            </td>\n",
        "        </tr>\n",
        "    </thead>\n",
        "</table>\n",
        "\n",
        "</div>\n",
        "\n",
        "<hr size=10 noshade color=\"green\">\n",
        "<p>\n",
        "<img alt=\"CC\" height=\"70px\" src=\"https://raw.githubusercontent.com/juliancastillo-udea/2024-1-ProgramacionPosgrados/main/images/by.xlarge.png\" align=\"left\" hspace=\"0px\" vspace=\"0px\">\n",
        "<img alt=\"Attribution\" height=\"70px\" src=\"https://raw.githubusercontent.com/juliancastillo-udea/2024-1-ProgramacionPosgrados/main/images/nc.xlarge.png\" align=\"left\" hspace=\"0px\" vspace=\"0px\">\n",
        "<img alt=\"NC\" height=\"70px\" src=\"https://raw.githubusercontent.com/juliancastillo-udea/2024-1-ProgramacionPosgrados/main/images/sa.xlarge.png\" align=\"left\" hspace=\"0px\" vspace=\"0px\">\n",
        "<img alt=\"SA\" height=\"70px\" src=\"https://raw.githubusercontent.com/juliancastillo-udea/2024-1-ProgramacionPosgrados/main/images/cc-icons.png\" align=\"left\" hspace=\"0px\" vspace=\"0px\">\n",
        "</p>\n",
        "\n",
        "<div align=\"right\">\n",
        "<h2> <b> Por: Julián Andrés Castillo G. </b> </h2>\n",
        "<a href=\"mailto:jandres.castillo@udea.edu.co\"> ✉ Julian Andres Castillo Grisales </a>\n",
        "<h2> <b> Por: Yony Fernando Ceballos. </b> </h2>\n",
        "<a href=\"mailto:yony.ceballos@udea.edu.co\"> ✉ Yony Fernando Ceballos </a>\n",
        "</div>"
      ]
    },
    {
      "cell_type": "markdown",
      "metadata": {
        "id": "wh-uubgNmXOh"
      },
      "source": [
        "El presente documento está basado en los siguientes libros y documentos:\n",
        "*   Banks, J. (2010). Discrete Event system Simulation. In Encyclopedia of Information Systems. https://doi.org/10.1016/b0-12-227240-4/00045-9\n",
        "*   Hillier, F. S., & Lieberman, G. J. (2010). Introducción a la Investigación de Operaciones (McGRAW-HILL (ed.); Novena Edi). McGRAW-HILL.\n",
        "*   Python Website. (2021). Python 3.9.1 documentation. Retrieved February 03, 2021, from https://docs.python.org/\n",
        "*   W3schools.com. (2021). Python tutorial. Retrieved February 04, 2021, from https://www.w3schools.com/python/default.asp\n",
        "*   Martelli, A., Ravenscroft, A., & Ascher, D. (2005). Python cookbook. \" O'Reilly\n",
        "*   VanderPlas, J. (2016). Python data science handbook: Essential tools for working with data. \" O'Reilly Media, Inc.\".\n",
        "*   realpython.com. (2021). Real Python Tutorials. Retrieved February 04, 2021, from https://realpython.com/\n",
        "*   Sweigart, A. (2019). Automate the boring stuff with Python: practical programming for total beginners. No Starch Press.\n",
        "*   Ziadé, T. (2008). Expert Python Programming. Packt Publishing Ltd.\n",
        "*   Pilgrim, M., & Willison, S. (2009). Dive Into Python 3 (Vol. 2). Apress.\n",
        "*   Cairo, B. (2005). Metodología de la Programación: Algoritmos, diagramas de flujo y programas. Alfaomega."
      ]
    },
    {
      "cell_type": "markdown",
      "metadata": {
        "id": "AZwGXTB5wkuf"
      },
      "source": [
        "## **Librerías Necesarias**"
      ]
    },
    {
      "cell_type": "code",
      "execution_count": null,
      "metadata": {
        "id": "g65XqBqY0AlC"
      },
      "outputs": [],
      "source": [
        "import random as rnd\n",
        "import pandas as pd\n",
        "import numpy as np\n",
        "import matplotlib.pyplot as plt\n",
        "import math as mt\n",
        "import sympy\n",
        "import statistics as st\n",
        "from tqdm import tqdm"
      ]
    },
    {
      "cell_type": "markdown",
      "metadata": {
        "id": "E7zp5ifO8sjI"
      },
      "source": [
        "# **`Ejercicio 1`**\n",
        "\n",
        "Simulación de la ganancia promedio de un raspa y gana. En este tipo de juegos, compras un boleto y raspas para revelar si has ganado un premio. Cada boleto tiene una cierta probabilidad de ganar diferentes cantidades de dinero.\n",
        "\n",
        "Supongamos la siguiente variación:\n",
        "\n",
        "La ganancia depende del\n",
        "\n",
        "El costo de cada boleto es de \\$1.000.\n",
        "Las ganancias son de la siguiente manera.\n",
        "\n",
        "*   Tres símbolos iguales dan ganancia de $(x * apuesta)$, el valor de $x$ depende del símbolo. A continuación se define tanto el retorno como la probabilidad de cada símbolo.\n",
        "\n",
        ">*   🍒  --> $x=10$  --> $p=0.001$\n",
        ">*   🍅  --> $x=08$  --> $p=0.010$\n",
        ">*   🍊  --> $x=06$  --> $p=0.050$\n",
        ">*   🍇  --> $x=04$  --> $p=0.100$\n",
        ">*   🍌  --> $x=02$  --> $p=0.200$\n",
        ">*   🥝  --> $x=01$  --> $p=0.639$\n",
        "\n",
        "*Dos símbolos iguales te retorna el valor del boleto.\n",
        "\n",
        "Determinar la ganancia promedio luego de $n$ repeticiones."
      ]
    },
    {
      "cell_type": "code",
      "execution_count": null,
      "metadata": {
        "colab": {
          "base_uri": "https://localhost:8080/"
        },
        "id": "pZJ6Srzq9Xq8",
        "outputId": "f7949591-8228-4ae1-d0cb-b808c739f50a"
      },
      "outputs": [
        {
          "name": "stdout",
          "output_type": "stream",
          "text": [
            "La ganancia total es: 2000\n",
            "La perdida total es: -10000\n",
            "El resultado total es: -8000\n"
          ]
        }
      ],
      "source": [
        "import random as rnd\n",
        "simbolos = ['🍒','🍅','🍊','🍇','🍌','🥝']\n",
        "def generarSimbolo(listaSimbolos:list):\n",
        "    \"\"\"\n",
        "    Esta función genera un símbolo basado en una probabilidad aleatoria.\n",
        "    Los símbolos y sus respectivas probabilidades son:\n",
        "    🍒: 0.001\n",
        "    🍅: 0.01\n",
        "    🍊: 0.05\n",
        "    🍇: 0.1\n",
        "    🍌: 0.2\n",
        "    🥝: 0.36\n",
        "\n",
        "    Parámetros:\n",
        "    listaSimbolos (list): Una lista de símbolos.\n",
        "\n",
        "    Retorna:\n",
        "    str: Un símbolo de la lista de símbolos basado en la probabilidad generada.\n",
        "    \"\"\"\n",
        "    p = rnd.random()  # Genera un número aleatorio entre 0 y 1\n",
        "\n",
        "    # Dependiendo del valor de p, se selecciona un símbolo de la lista\n",
        "    if p >0.999:        #🍒\n",
        "        return listaSimbolos[0]\n",
        "    elif p > 0.989:     #🍅\n",
        "        return listaSimbolos[1]\n",
        "    elif p > 0.939:     #🍊\n",
        "        return listaSimbolos[2]\n",
        "    elif p > 0.839:     #🍇\n",
        "        return listaSimbolos[3]\n",
        "    elif p > 0.639:     #🍌\n",
        "        return listaSimbolos[4]\n",
        "    else:               #🥝\n",
        "        return listaSimbolos[5]\n",
        "def generarRaspaGana():\n",
        "    \"\"\"\n",
        "    Esta función genera una lista de tres símbolos utilizando la función generarSimbolo.\n",
        "\n",
        "    No toma ningún parámetro.\n",
        "\n",
        "    Retorna:\n",
        "    list: Una lista de tres símbolos.\n",
        "    \"\"\"\n",
        "    raspagana = []  # Inicializa una lista vacía para almacenar los símbolos\n",
        "\n",
        "    # Genera tres símbolos y los añade a la lista\n",
        "    for _ in range(3):\n",
        "        raspagana.append(generarSimbolo(simbolos))\n",
        "\n",
        "    return raspagana  # Retorna la lista de símbolos\n",
        "def raspaFisico(a, b, c, d):\n",
        "    \"\"\"\n",
        "    Esta función imprime un raspa y gana físico con los símbolos y el premio.\n",
        "\n",
        "    Parámetros:\n",
        "    a (str): El primer símbolo.\n",
        "    b (str): El segundo símbolo.\n",
        "    c (str): El tercer símbolo.\n",
        "    d (float): El premio.\n",
        "\n",
        "    No retorna nada.\n",
        "    \"\"\"\n",
        "    x = f\"\"\"\n",
        "     Raspa y Gana\n",
        "   /---\\\\ /---\\\\ /---\\\\\n",
        "   |{a} | |{b} | |{c} |\n",
        "   \\\\---/ \\\\---/ \\\\---/\n",
        "    Ganaste ({d:,.0f})\n",
        "   \"\"\"\n",
        "    print(x)  # Imprime el raspa y gana\n",
        "def ganaRaspaGana(lista:list):\n",
        "    \"\"\"\n",
        "    Esta función determina si una lista de símbolos es ganadora.\n",
        "    Una lista es ganadora si al menos dos de sus símbolos son iguales.\n",
        "\n",
        "    Parámetros:\n",
        "    lista (list): Una lista de símbolos.\n",
        "\n",
        "    Retorna:\n",
        "    tuple: Un tuple que contiene un entero indicando la cantidad de simbolos repetidos y el símbolo ganador.\n",
        "    Si la lista no es ganadora, el símbolo ganador es None.\n",
        "    \"\"\"\n",
        "    if lista[0] == lista[1] == lista[2]:  # Si los tres símbolos son iguales\n",
        "        return 3, lista[0]\n",
        "    elif lista[0] == lista[1]:  # Si los dos primeros símbolos son iguales\n",
        "        return 2, lista[0]\n",
        "    elif lista[1] == lista[2]:  # Si los dos últimos símbolos son iguales\n",
        "        return 2, lista[2]\n",
        "    elif lista[0] == lista[2]:  # Si el primer y último símbolo son iguales\n",
        "        return 2, lista[2]\n",
        "    return 0, None  # Si no hay símbolos iguales\n",
        "def retornoGanancia(simbolo:str):\n",
        "    \"\"\"\n",
        "    Esta función determina la ganancia basada en el símbolo proporcionado.\n",
        "    Las ganancias son las siguientes:\n",
        "    🍒: 10\n",
        "    🍅: 8\n",
        "    🍊: 6\n",
        "    🍇: 4\n",
        "    🍌: 2\n",
        "    🥝: 0\n",
        "\n",
        "    Parámetros:\n",
        "    simbolo (str): El símbolo para el cual se determinará la ganancia.\n",
        "\n",
        "    Retorna:\n",
        "    int: La ganancia correspondiente al símbolo.\n",
        "    \"\"\"\n",
        "    if simbolo ==   '🍒':\n",
        "        return 10\n",
        "    elif simbolo == '🍅':\n",
        "        return 8\n",
        "    elif simbolo == '🍊':\n",
        "        return 6\n",
        "    elif simbolo == '🍇':\n",
        "        return 4\n",
        "    elif simbolo == '🍌':\n",
        "        return 2\n",
        "    else:           #🥝\n",
        "        return 0\n",
        "def juegoRaspaGana(repeticiones = 10, apuesta = 1000):\n",
        "    raspamientos = []\n",
        "    gananciaraspa = []\n",
        "    perdida = -1000*repeticiones\n",
        "    for _ in range(repeticiones):\n",
        "        raspa = generarRaspaGana()\n",
        "        raspamientos.append(raspa)\n",
        "        gana = ganaRaspaGana(raspa)\n",
        "        if gana[0] == 3:\n",
        "            # Hay tres simbolos iguales\n",
        "            ganado = retornoGanancia(gana[1]) * apuesta\n",
        "        if gana[0] == 2 and gana[1] != '🥝':\n",
        "            # Hay dos simbolos iguales\n",
        "            ganado = 1000\n",
        "        if gana[0] == 2 and gana[1] == '🥝':\n",
        "            # Hay dos simbolos iguales\n",
        "            ganado = 0\n",
        "        if gana[0] == 0:\n",
        "            # No hay simbolos iguales\n",
        "            ganado = 0\n",
        "        gananciaraspa.append(ganado)\n",
        "    return raspamientos, gananciaraspa\n",
        "y = juegoRaspaGana()\n",
        "Juegos = y[0]\n",
        "Ganacia = y[1]\n",
        "Perdida = len(y[0])*(-1000)\n",
        "print(f'La ganancia total es: {sum(Ganacia)}')\n",
        "print(f'La perdida total es: {Perdida}')\n",
        "print(f'El resultado total es: {sum(Ganacia) + Perdida}')"
      ]
    },
    {
      "cell_type": "markdown",
      "metadata": {
        "id": "5XR7LHNH7rGy"
      },
      "source": [
        "# **`Ejercicio 2`**\n",
        "\n",
        "Simulación de la ganancia promedio de un raspa y gana. En este tipo de juegos, compras un boleto y raspas para revelar si has ganado un premio. Cada boleto tiene una cierta probabilidad de ganar diferentes cantidades de dinero.\n",
        "\n",
        "Supongamos el siguiente escenario para nuestro juego de raspa y gana:\n",
        "\n",
        "El costo de cada boleto es de $1000.\n",
        "Las probabilidades y los premios son los siguientes:\n",
        "\n",
        "*   0.5% de probabilidad de ganar \\$100.000.\n",
        "*   1% de probabilidad de ganar \\$50.000.\n",
        "*   5% de probabilidad de ganar \\$10.000.\n",
        "*   10% de probabilidad de ganar \\$5.000.\n",
        "*   83.5% de probabilidad de no ganar nada.\n"
      ]
    },
    {
      "cell_type": "code",
      "execution_count": null,
      "metadata": {
        "id": "Onu_7P-I-R_v"
      },
      "outputs": [],
      "source": [
        "help(np.random.choice)"
      ]
    },
    {
      "cell_type": "code",
      "execution_count": null,
      "metadata": {
        "colab": {
          "base_uri": "https://localhost:8080/"
        },
        "id": "i3Cd3TYI8U96",
        "outputId": "4d4ba662-3c32-4a70-c219-735679b584f9"
      },
      "outputs": [
        {
          "name": "stdout",
          "output_type": "stream",
          "text": [
            "Ganancia promedio por boleto: $1101\n",
            "Ganancias totales después de comprar 10000 boletos: $11,010,000\n",
            "Inversion total por la compra de 10000 : $10,000,000\n"
          ]
        }
      ],
      "source": [
        "import numpy as np\n",
        "def simular_raspa_y_gana(costo_boleto, num_boletos):\n",
        "    # Probabilidades y premios\n",
        "    probabilidades = [0.005, 0.01, 0.05, 0.1, 0.835]\n",
        "    premios = [100000, 50000, 10000, 5000, 0]\n",
        "\n",
        "    # Simulamos la compra de boletos y sumamos las ganancias\n",
        "    resultados = np.random.choice(premios, p=probabilidades, size=num_boletos)\n",
        "    ganancias_totales = resultados.sum() - costo_boleto * num_boletos\n",
        "\n",
        "    # Calculamos la ganancia promedio por boleto\n",
        "    ganancia_promedio = ganancias_totales / num_boletos\n",
        "\n",
        "    return ganancia_promedio, ganancias_totales\n",
        "\n",
        "# Parámetros de la simulación\n",
        "costo_boleto = 1000\n",
        "num_boletos = 10000\n",
        "\n",
        "# Simulación\n",
        "ganancia_promedio, ganancias_totales = simular_raspa_y_gana(costo_boleto, num_boletos)\n",
        "print(f\"Ganancia promedio por boleto: ${ganancia_promedio:.0f}\")\n",
        "print(f\"Ganancias totales después de comprar {num_boletos} boletos: ${ganancias_totales:,.0f}\")\n",
        "print(f\"Inversion total por la compra de {num_boletos} : ${num_boletos*costo_boleto:,.0f}\")"
      ]
    },
    {
      "cell_type": "markdown",
      "metadata": {
        "id": "Tc84w-AZXlD9"
      },
      "source": [
        "# **`Ejercicio 3`**\n",
        "\n",
        "Estimación del Tiempo de Finalización de un Proyecto\n",
        "\n",
        "Supongamos que tenemos tres tareas principales para completar un proyecto. Cada tarea tiene un tiempo estimado de finalización uniforme para cada tarea:\n",
        "\n",
        "*   Tarea 1: Tiempo estimado entre 3 a 5 días.\n",
        "*   Tarea 2: Tiempo estimado entre 2 a 4 días.\n",
        "*   Tarea 3: Tiempo estimado entre 1 a 3 días.\n",
        "\n",
        "Queremos simular el tiempo total para completar el proyecto, suponiendo que las tareas se realizan secuencialmente."
      ]
    },
    {
      "cell_type": "code",
      "execution_count": null,
      "metadata": {
        "colab": {
          "base_uri": "https://localhost:8080/"
        },
        "id": "CdUmSOqaXhYM",
        "outputId": "98dd8bad-7c7f-4421-fecf-0114c6033bdf"
      },
      "outputs": [
        {
          "name": "stdout",
          "output_type": "stream",
          "text": [
            "Tiempo promedio estimado para completar el proyecto: 14 días\n"
          ]
        }
      ],
      "source": [
        "import numpy as np\n",
        "\n",
        "def simular_proyecto(num_simulaciones):\n",
        "    total_tiempo = np.zeros(num_simulaciones)\n",
        "    for i in range(num_simulaciones):\n",
        "        # Generamos tiempos de cada tarea\n",
        "        tiempo_tarea1 = np.random.uniform(3, 15)\n",
        "        tiempo_tarea2 = np.random.uniform(2, 4)\n",
        "        tiempo_tarea3 = np.random.uniform(1, 3)\n",
        "\n",
        "        # Sumamos los tiempos para obtener el tiempo total del proyecto\n",
        "        total_tiempo[i] = tiempo_tarea1 + tiempo_tarea2 + tiempo_tarea3\n",
        "        #tsi.append(tiempotarea1+2+3)\n",
        "    # Calculamos el tiempo promedio de finalización del proyecto\n",
        "    tiempo_promedio = np.mean(total_tiempo)\n",
        "    return tiempo_promedio, total_tiempo\n",
        "\n",
        "# Parámetros de la simulación\n",
        "num_simulaciones = 10000\n",
        "\n",
        "# Simulación\n",
        "tiempo_promedio, _ = simular_proyecto(num_simulaciones)\n",
        "print(f\"Tiempo promedio estimado para completar el proyecto: {tiempo_promedio:,.0f} días\")\n"
      ]
    },
    {
      "cell_type": "markdown",
      "metadata": {
        "id": "zqqPGfU9YIV4"
      },
      "source": [
        "# **`Ejercicio 4`**\n",
        "\n",
        "Ejercicio 1 del Taller\n",
        "\n",
        "Una papelería desea saber cuántos y cuáles productos comprar para el siguiente mes. Esta sólo se dedica a la comercialización de libros de texto. Los libros de texto pueden ser de 2 tipos diferentes y la probabilidad asociada a que un cliente que venga compre uno de ellos, el costo en la editorial por unidad y el precio de venta por unidad se presenta en la tabla.\n",
        "\n",
        "|        **Tipo de libro**        | **Matemáticas** | **Química** | **Promoción 2 Libros** |\n",
        "|:-------------------------------:|:---------------:|:-----------:|:----------------------:|\n",
        "| **Probabilidad**                | 0.45            | 0.4         | 0.15                   |\n",
        "| **Costo en Editorial (Unidad)** | 3500            | 4500        | Ver enunciado          |\n",
        "| **Precio de venta (Unidad)**    | 5000            | 6500        | Ver enunciado          |\n",
        "\n",
        "Los años anteriores le han dado una idea de cómo serán las ventas para el mes que se avecina:\n",
        "\n",
        "La demanda total para el año venidero se estima en 1.500 clientes, siguiendo con la probabilidad de la tabla anterior.\n",
        "\n",
        "Existe un costo asociado a los salarios de los empleados (un sólo vendedor) y este es de \\$1.000.000. Si se venden más de 1.200 ejemplares, por la compra de cada libro extra la editorial hace un descuento de 10% sobre el costo en editorial.\n",
        "\n",
        "Existe una promoción, la cual se aplica a aquellas personas que compren dos libros, la cual consiste en que por cada libro sólo se cobran \\$500 por encima del costo en editorial.\n",
        "\n",
        "Haga los supuestos que considere necesarios y justifíquelos.\n",
        "\n",
        "*   Diseñe un procedimiento (seudocódigo o diagrama de flujo) para determinar el tamaño óptimo (Cantidad de libros a comprar en la editorial) al iniciar el mes y especificar cada variable empleada.\n"
      ]
    },
    {
      "cell_type": "code",
      "execution_count": null,
      "metadata": {
        "colab": {
          "base_uri": "https://localhost:8080/"
        },
        "id": "OBnE0v--ZNgx",
        "outputId": "4e6154d3-fa31-447c-91cb-a9a91e963915"
      },
      "outputs": [
        {
          "data": {
            "text/plain": [
              "(5000.0, 6700.0, -90700.0, 12)"
            ]
          },
          "execution_count": 10,
          "metadata": {},
          "output_type": "execute_result"
        }
      ],
      "source": [
        "import random as rnd\n",
        "import numpy as np\n",
        "\n",
        "def CompraLibro():\n",
        "    r = rnd.random()\n",
        "    if r > 0.85:\n",
        "        return 2, \"Ambos\"\n",
        "    elif r > 0.45:\n",
        "        return 1, 'Quimica'\n",
        "    else:\n",
        "        return 1, 'Matematicas'\n",
        "def CostosEditorialVenta(tupla:tuple):\n",
        "    cantidad = tupla[0]\n",
        "    libro = tupla[1]\n",
        "    costoeditorial = 0\n",
        "    precioventa = 0\n",
        "    if cantidad == 1:\n",
        "        if libro == 'Quimica':\n",
        "            costoeditorial = 4500\n",
        "            precioventa = 6500\n",
        "        if libro == 'Matematicas':\n",
        "            costoeditorial = 3500\n",
        "            precioventa = 5000\n",
        "    else:\n",
        "        costoeditorial = 4500 + 3500\n",
        "        precioventa = costoeditorial + 1000\n",
        "    return costoeditorial, precioventa\n",
        "\n",
        "def Simulacion(repeticiones = 1500):\n",
        "    costoperacional = -1_000_000 #Empleado\n",
        "    libroscomprados = 0\n",
        "    costoeditorialtotal = 0\n",
        "    precioventatotal = 0\n",
        "    descuento = 1\n",
        "    for _ in range(repeticiones):\n",
        "        if libroscomprados > 1200:\n",
        "            descuento = 0.9\n",
        "        compra = CompraLibro()\n",
        "        costoeditorial, precioventa = CostosEditorialVenta(compra)\n",
        "        costoeditorial = costoeditorial * descuento\n",
        "        libroscomprados += compra[0]\n",
        "        costoeditorialtotal += costoeditorial\n",
        "        precioventatotal += precioventa\n",
        "        costoperacional += (precioventatotal-costoeditorialtotal)\n",
        "    return costoeditorialtotal/repeticiones, precioventatotal/repeticiones, costoperacional/repeticiones, libroscomprados\n",
        "Simulacion()"
      ]
    },
    {
      "cell_type": "code",
      "execution_count": null,
      "metadata": {
        "id": "xwSkgwtRh7LL"
      },
      "outputs": [],
      "source": []
    },
    {
      "cell_type": "markdown",
      "metadata": {
        "id": "9fDvnzEVUsSR"
      },
      "source": [
        "# **`Ejercicio 5`**\n",
        "\n",
        "Ejercicio tipo parcial presencial\n",
        "\n",
        "En Vermillion Entertainment desarrollan un videojuego de fútbol el cual contiene microtransacciones. Cuando compras el juego, viene con todos los equipos de fútbol de sudamérica CONMEBOL  (Argentina, Bolivia, Brasil, Chile, Colombia, Ecuador, Paraguay, Perú, Uruguay y Venezuela).\n",
        "\n",
        "La suplencia de cada equipo de fútbol contiene 11 jugadores y la titular también está compuesta por 11 jugadores. Sin embargo, el videojuego sólo trae los jugadores de la suplencia. Para adquirir los jugadores titulares se deben comprar “loot boxes”. El videojuego tiene un costo de COP\\$199000, cada loot box cuesta COP\\$8000 y trae 3 jugadores nuevos y/o repetidos de la titular de uno de los equipos de la CONMEBOL (usted selecciona de cual equipo).\n",
        "\n",
        "La probabilidad de que un jugador de la titular sea uno de los tres jugadores del loot box, es inversamente proporcional a su popularidad así: más popular 1/20, siguiente en popularidad 1/19, 1/18, 1/17 … 1/10 y 1/9. Tenga presente que cada loot box tiene que contener 3 jugadores y pueden estar repetidos. Construya un algoritmo que le permita calcular, empleando el método de Montecarlo, en promedio cuánto dinero hay que gastar para llegar a tener al jugador más popular en la selección Colombia."
      ]
    },
    {
      "cell_type": "code",
      "execution_count": null,
      "metadata": {
        "colab": {
          "base_uri": "https://localhost:8080/"
        },
        "id": "ZDGy3Dn5UlI4",
        "outputId": "4693e390-fd6b-40c2-fbca-1e3bd7691815"
      },
      "outputs": [
        {
          "name": "stdout",
          "output_type": "stream",
          "text": [
            "252328.0\n",
            "6.666\n",
            "[5, 3, 3, 7, 4, 1, 3, 11, 45, 4, 3, 11, 3, 4, 1, 23, 4, 1, 11, 4, 11, 13, 1, 9, 8, 5, 1, 10, 3, 1, 12, 3, 10, 8, 2, 2, 7, 3, 4, 3, 3, 5, 7, 4, 12, 4, 6, 3, 1, 4, 11, 12, 11, 2, 1, 2, 1, 2, 1, 8, 3, 13, 7, 1, 10, 1, 11, 1, 19, 11, 1, 4, 5, 2, 5, 7, 11, 6, 1, 6, 2, 2, 1, 9, 18, 4, 4, 7, 13, 13, 8, 2, 5, 6, 1, 9, 23, 4, 11, 11, 3, 2, 11, 1, 5, 20, 16, 12, 9, 4, 16, 1, 2, 3, 1, 8, 6, 2, 1, 1, 7, 4, 5, 1, 14, 3, 5, 10, 3, 1, 3, 2, 16, 4, 2, 3, 15, 2, 5, 2, 1, 1, 4, 13, 5, 10, 2, 2, 3, 1, 15, 3, 4, 6, 2, 8, 2, 2, 6, 4, 9, 3, 3, 4, 3, 6, 8, 10, 17, 8, 6, 3, 7, 8, 1, 2, 9, 1, 23, 4, 4, 23, 11, 8, 24, 9, 2, 11, 14, 9, 5, 6, 3, 3, 2, 3, 3, 1, 1, 2, 12, 1, 15, 6, 3, 12, 7, 6, 4, 14, 2, 5, 1, 1, 10, 2, 1, 5, 26, 1, 9, 7, 15, 3, 16, 14, 11, 16, 13, 1, 13, 6, 10, 4, 2, 3, 28, 2, 4, 6, 2, 1, 6, 15, 9, 1, 3, 2, 3, 19, 3, 7, 13, 8, 3, 8, 2, 3, 8, 4, 4, 8, 11, 10, 9, 1, 4, 2, 5, 3, 8, 8, 1, 9, 2, 2, 3, 3, 12, 3, 2, 13, 3, 2, 9, 3, 4, 3, 1, 8, 13, 1, 11, 12, 17, 7, 3, 1, 17, 2, 4, 3, 13, 1, 7, 12, 1, 23, 1, 3, 14, 3, 7, 6, 4, 5, 14, 9, 3, 5, 2, 1, 8, 9, 8, 2, 5, 6, 8, 2, 7, 1, 2, 3, 34, 1, 4, 19, 23, 8, 12, 13, 3, 10, 5, 1, 1, 3, 4, 3, 7, 21, 3, 1, 6, 2, 1, 12, 2, 7, 2, 6, 4, 15, 5, 12, 13, 3, 6, 11, 2, 3, 8, 6, 5, 8, 5, 1, 16, 9, 1, 9, 20, 32, 9, 4, 18, 8, 4, 6, 5, 7, 7, 1, 1, 5, 7, 27, 12, 5, 2, 3, 1, 1, 2, 4, 4, 20, 8, 20, 7, 1, 5, 5, 9, 1, 3, 4, 1, 5, 5, 4, 1, 5, 2, 8, 1, 7, 3, 5, 1, 2, 8, 6, 1, 8, 11, 3, 27, 17, 6, 3, 12, 15, 1, 5, 4, 5, 10, 2, 2, 3, 11, 6, 10, 3, 1, 3, 4, 1, 1, 38, 12, 5, 5, 4, 6, 13, 5, 4, 18, 19, 1, 5, 6, 9, 2, 3, 5, 2, 1, 10, 7, 11, 5, 2, 10, 12, 5, 3, 4, 1, 1, 1, 33, 7, 3, 4, 8, 3, 10, 2, 6, 8, 28, 8, 16, 5, 3, 2, 19, 10, 6, 2, 2, 4, 1, 2, 22, 1, 5, 3, 4, 4, 1, 1, 7, 1, 14, 20, 7, 11, 4, 7, 12, 16, 5, 8, 2, 3, 8, 5, 16, 5, 1, 12, 4, 10, 6, 8, 2, 5, 8, 1, 2, 3, 25, 1, 9, 2, 17, 2, 1, 3, 3, 17, 2, 8, 11, 22, 10, 5, 4, 8, 3, 19, 16, 6, 15, 6, 17, 5, 4, 29, 16, 20, 2, 6, 11, 5, 8, 7, 1, 2, 3, 9, 7, 3, 11, 1, 1, 1, 3, 11, 8, 17, 8, 6, 5, 2, 7, 14, 8, 2, 14, 13, 16, 1, 3, 16, 8, 9, 4, 4, 1, 1, 4, 11, 2, 7, 8, 4, 9, 10, 7, 5, 8, 1, 4, 6, 3, 10, 7, 3, 1, 2, 10, 11, 6, 5, 2, 1, 4, 2, 4, 5, 1, 10, 3, 5, 3, 8, 4, 12, 7, 1, 12, 6, 8, 2, 6, 1, 2, 14, 24, 5, 5, 8, 15, 4, 2, 4, 1, 6, 2, 1, 13, 3, 4, 2, 9, 23, 7, 4, 7, 1, 1, 2, 1, 21, 2, 2, 2, 2, 9, 17, 3, 18, 5, 29, 16, 20, 14, 5, 8, 8, 4, 2, 12, 5, 6, 4, 13, 2, 1, 3, 7, 7, 5, 5, 5, 6, 1, 14, 17, 13, 1, 3, 7, 2, 1, 4, 4, 4, 6, 10, 22, 29, 1, 13, 26, 2, 13, 11, 9, 12, 1, 9, 3, 5, 6, 8, 3, 9, 12, 8, 5, 1, 1, 3, 8, 12, 10, 7, 3, 8, 2, 13, 3, 12, 2, 1, 1, 7, 2, 12, 6, 1, 1, 7, 1, 3, 16, 13, 4, 9, 6, 4, 3, 1, 2, 1, 11, 7, 8, 1, 1, 1, 1, 1, 1, 3, 7, 1, 3, 1, 2, 3, 6, 3, 8, 3, 1, 2, 4, 4, 1, 3, 2, 7, 1, 1, 18, 2, 3, 1, 2, 3, 22, 14, 2, 8, 8, 8, 7, 1, 7, 2, 8, 15, 1, 1, 4, 6, 7, 12, 9, 2, 2, 2, 16, 27, 6, 1, 4, 6, 2, 1, 3, 1, 6, 4, 1, 6, 5, 5, 4, 11, 20, 22, 11, 25, 3, 9, 1, 29, 6, 6, 9, 4, 2, 3, 11, 3, 12, 10, 24, 5, 2, 2, 9, 2, 2, 18, 5, 16, 2, 8, 27, 15, 1, 20, 2, 6, 4, 6, 1, 1, 3, 7, 1, 16, 16, 11, 5, 11, 10, 7, 5, 1, 2, 6, 2, 1, 5, 1, 3, 9, 18, 6, 4, 6, 4, 1, 2, 5, 2, 9, 2, 1, 4, 4, 21, 2, 8, 10, 3, 5, 3, 1, 8, 1, 11, 1, 5, 1, 1, 2, 7, 2, 3, 7, 1, 12, 2, 6, 3, 5, 8, 7, 15, 20, 31, 15, 2, 2, 8, 7, 1, 4, 5, 2, 27, 2, 2, 4, 1, 2, 3, 13]\n"
          ]
        }
      ],
      "source": [
        "#Solucion, para buscar a Luis Diaz\n",
        "import random as rnd\n",
        "juego = 199000\n",
        "lotbox = 8000\n",
        "iteraciones = 1000\n",
        "luisdiaz = totalgasto = promediogasto = compra = 0\n",
        "lb = []\n",
        "x, y, z, i, j, k = 0,0,0,0,0,0\n",
        "for i in range(iteraciones):\n",
        "    #Acá es donde voy a buscar el jugador\n",
        "    compra = juego #arranco con el valor del juego, cada iteracion es una busqueda de LuisDiaz, termino y paso\n",
        "    while luisdiaz == 0:\n",
        "        #Acá debo iterar hasta que el 1/20se cumpla\n",
        "        j += 1 #cuantas veces se realiza la transaccion de comprar un loot box\n",
        "        x = rnd.random()\n",
        "        y = rnd.random()\n",
        "        z = rnd.random()\n",
        "        if (x < 1/20) or (y < 1/20) or (z < 1/20):\n",
        "            luisdiaz = 1\n",
        "    lb.append(j)\n",
        "    compra = compra + lotbox * j #La compra de esta iteracion, esta compra se pierde cuando pasamos a la siugiente\n",
        "    #Total = valor del juego + valor del lootbox * (cantidad de veces hasta que salga luis diaz)\n",
        "    totalgasto = totalgasto + compra #acumula todas las compras\n",
        "    k += j #loot boxes en total\n",
        "    compra = 0\n",
        "    j = 0\n",
        "    luisdiaz = 0\n",
        "    #reinicio las variables para poder tener control sobre el algoritmo\n",
        "promediogasto = totalgasto / iteraciones\n",
        "print(promediogasto)\n",
        "print(k/iteraciones)\n",
        "print(lb)"
      ]
    },
    {
      "cell_type": "code",
      "execution_count": null,
      "metadata": {
        "colab": {
          "base_uri": "https://localhost:8080/"
        },
        "id": "6dt5CQigoGaQ",
        "outputId": "024a6632-18ce-42a2-ca14-66f1b63e4cdf"
      },
      "outputs": [
        {
          "name": "stdout",
          "output_type": "stream",
          "text": [
            "1\n"
          ]
        }
      ],
      "source": [
        "print(min(lb))"
      ]
    },
    {
      "cell_type": "code",
      "execution_count": null,
      "metadata": {
        "colab": {
          "base_uri": "https://localhost:8080/"
        },
        "id": "dlMABnoXm7lL",
        "outputId": "5fd4b554-2ab3-4396-c99c-405a11b2b76d"
      },
      "outputs": [
        {
          "name": "stdout",
          "output_type": "stream",
          "text": [
            "0.41754088420754654 0.21988167920435564 0.08763524234058429 | 1\n",
            "0.46835457374448375 0.9291211237314805 0.6724525798084549 | 2\n",
            "0.24455004532884517 0.6397061485686629 0.9674629893917169 | 3\n",
            "0.7618719087524783 0.6270597461129829 0.168136689109045 | 4\n",
            "0.04151419686103097 0.008424133868671912 0.8167626819963786 | 5\n"
          ]
        }
      ],
      "source": [
        "luisdiaz = 0\n",
        "j = 0\n",
        "while luisdiaz == 0:\n",
        "    #Acá debo iterar hasta que el 1/20se cumpla\n",
        "    j += 1 #cuantas veces se realiza la transaccion de comprar un loot box\n",
        "    x = rnd.random()\n",
        "    y = rnd.random()\n",
        "    z = rnd.random()\n",
        "    if (x < 1/20) or (y < 1/20) or (z < 1/20):\n",
        "        luisdiaz = 1\n",
        "    print(x,y,z,\"|\", j)"
      ]
    },
    {
      "cell_type": "markdown",
      "metadata": {
        "id": "KEEW3gErgN62"
      },
      "source": [
        "# **`Ejercicio 6`**\n",
        "\n",
        "Ejercicio tipo parcial presencial\n",
        "\n",
        "Encuentre una aproximación usando el metodo de MonteCarlo para el área de color amarillo delimitada por el Seno, Coseno y Tangente, estos valores aplican entre 0 y 1 tanto para $x$ como para $y$.\n",
        "\n",
        "\n",
        "*   Realice un algoritmo que calcule el área.\n",
        "*   Describa con sus palabras la selección de la cantidad de iteraciones necesarias para aproximar el valor.\n",
        "\n",
        "![Integral.png](https://i.imgur.com/O1ZUnMq.png)\n"
      ]
    },
    {
      "cell_type": "code",
      "execution_count": null,
      "metadata": {
        "id": "9arJ11AKh3-g"
      },
      "outputs": [],
      "source": [
        "#Solucion\n",
        "import math as mt\n",
        "import numpy as np\n",
        "import matplotlib.pyplot as plt\n",
        "import random as rnd"
      ]
    },
    {
      "cell_type": "code",
      "execution_count": null,
      "metadata": {
        "id": "k8rdsm8pPzjv"
      },
      "outputs": [],
      "source": []
    },
    {
      "cell_type": "code",
      "execution_count": null,
      "metadata": {
        "colab": {
          "base_uri": "https://localhost:8080/",
          "height": 449
        },
        "id": "SIBDNnbFovy2",
        "outputId": "32344b7b-10cf-4a6c-ad35-9e0550b33d7a"
      },
      "outputs": [
        {
          "data": {
            "image/png": "[encoded data removed]",
            "text/plain": [
              "<Figure size 640x480 with 1 Axes>"
            ]
          },
          "metadata": {},
          "output_type": "display_data"
        }
      ],
      "source": [
        "x, fx, g, fg, h, fh = [], [], [], [], [], []\n",
        "pintar = np.linspace(0,1,1000)\n",
        "for i in pintar:\n",
        "    x.append(i)\n",
        "    fx.append(mt.sin(i))\n",
        "    g.append(i)\n",
        "    fg.append(mt.cos(i))\n",
        "    #-----------------------------\n",
        "    temp = mt.tan(i)\n",
        "    if temp <= 1:\n",
        "        h.append(i)\n",
        "        fh.append(mt.tan(i))\n",
        "plt.xlabel('x,g,h')\n",
        "plt.ylabel('fx,fg,fh')\n",
        "plt.scatter(x,fx, marker=\"o\", color=\"red\", label=\"Sin(x)\")\n",
        "plt.scatter(g,fg, marker=\"o\", color=\"blue\", label=\"Cos(x)\")\n",
        "plt.scatter(h,fh, marker=\"o\", color=\"green\", label=\"Tan(x)\")\n",
        "plt.legend()\n",
        "plt.show()"
      ]
    },
    {
      "cell_type": "code",
      "execution_count": null,
      "metadata": {
        "colab": {
          "base_uri": "https://localhost:8080/",
          "height": 466
        },
        "id": "APcLwwq5pr4z",
        "outputId": "232fb699-7a9d-4bac-c654-3ad2540b6c96"
      },
      "outputs": [
        {
          "name": "stdout",
          "output_type": "stream",
          "text": [
            "El area total aproximada es de: 0.3970\n"
          ]
        },
        {
          "data": {
            "image/png": "[encoded data removed]",
            "text/plain": [
              "<Figure size 640x480 with 1 Axes>"
            ]
          },
          "metadata": {},
          "output_type": "display_data"
        }
      ],
      "source": [
        "#hit or miss\n",
        "hit, miss = 0,0\n",
        "xhit, yhit = [],[]\n",
        "xmiss, ymiss = [],[]\n",
        "replicas = 1000\n",
        "for i in range(replicas):\n",
        "    _x = rnd.random()\n",
        "    _y = rnd.random()\n",
        "    seno = mt.sin(_x)\n",
        "    coseno = mt.cos(_x)\n",
        "    tangente = mt.tan(_x)\n",
        "    if coseno > seno and coseno > tangente:#delimitando los grupos, los componentes\n",
        "    #delimitando los valores,\n",
        "        if _y > tangente and _y > seno and _y < coseno:\n",
        "            hit += 1\n",
        "            xhit.append(_x)\n",
        "            yhit.append(_y)\n",
        "        else:\n",
        "            miss += 1\n",
        "            xmiss.append(_x)\n",
        "            ymiss.append(_y)\n",
        "    else:\n",
        "        if _y < seno and _y > coseno:\n",
        "            hit += 1\n",
        "            xhit.append(_x)\n",
        "            yhit.append(_y)\n",
        "        else:\n",
        "            miss += 1\n",
        "            xmiss.append(_x)\n",
        "            ymiss.append(_y)\n",
        "area = hit/replicas\n",
        "print('El area total aproximada es de: {:.4f}'.format(area))\n",
        "plt.xlabel('x,g,h')\n",
        "plt.ylabel('fx,fg,fh')\n",
        "plt.scatter(x,fx, marker=\"*\", color=\"red\", label=\"Sin(x)\")\n",
        "plt.scatter(g,fg, marker=\"o\", color=\"blue\", label=\"Cos(x)\")\n",
        "plt.scatter(h,fh, marker=\"+\", color=\"green\", label=\"Tan(x)\")\n",
        "plt.scatter(xhit,yhit, marker=\"o\", color=\"cyan\", label=\"Hit\")\n",
        "plt.scatter(xmiss,ymiss, marker=\"+\", color=\"pink\", label=\"Miss\")\n",
        "plt.legend()\n",
        "plt.show()"
      ]
    },
    {
      "cell_type": "code",
      "execution_count": null,
      "metadata": {
        "id": "ODY3eoWjsNRc"
      },
      "outputs": [],
      "source": [
        "def AreaSCT(iteracion): #entregar un valor numerico de area\n",
        "    hit, miss = 0,0\n",
        "    for i in range(iteracion):\n",
        "        _x = rnd.random()\n",
        "        _y = rnd.random()\n",
        "        seno = mt.sin(_x)\n",
        "        coseno = mt.cos(_x)\n",
        "        tangente = mt.tan(_x)\n",
        "        if coseno > seno and coseno > tangente:#delimitando los grupos, los componentes\n",
        "        #delimitando los valores,\n",
        "            if _y > tangente and _y > seno and _y < coseno:\n",
        "                hit += 1\n",
        "            else:\n",
        "                miss += 1\n",
        "        else:\n",
        "            if _y < seno and _y > coseno:\n",
        "                hit += 1\n",
        "            else:\n",
        "                miss += 1\n",
        "    return hit/iteracion"
      ]
    },
    {
      "cell_type": "code",
      "execution_count": null,
      "metadata": {
        "colab": {
          "base_uri": "https://localhost:8080/",
          "height": 651
        },
        "id": "Yhdih3Dbsstm",
        "outputId": "0653b652-f6ad-4091-95f2-3e1ec9e32c1b"
      },
      "outputs": [
        {
          "name": "stderr",
          "output_type": "stream",
          "text": [
            "Calculo de convergencia: 100%|██████████| 1000/1000 [00:02<00:00, 410.85it/s]\n"
          ]
        },
        {
          "name": "stdout",
          "output_type": "stream",
          "text": [
            "FIN\n",
            "El promedio estimado general es: 0.4121\n"
          ]
        },
        {
          "data": {
            "image/png": "[encoded data removed]",
            "text/plain": [
              "<Figure size 700x700 with 1 Axes>"
            ]
          },
          "metadata": {},
          "output_type": "display_data"
        }
      ],
      "source": [
        "vresultados=[]\n",
        "vpromedio = []\n",
        "epromedio = 0\n",
        "import statistics as st\n",
        "from tqdm import tqdm\n",
        "for i in tqdm(range(1,1000+1), desc='Calculo de convergencia'):\n",
        "#for i in range(1,10000+1):\n",
        "    vresultados.append(AreaSCT(i))\n",
        "    epromedio = st.mean(vresultados)\n",
        "    vpromedio.append(epromedio)\n",
        "print('FIN')\n",
        "promediogeneral = st.mean(vpromedio)\n",
        "print(f'El promedio estimado general es: {promediogeneral:,.4f}')\n",
        "plt.figure(figsize=(7,7))\n",
        "plt.plot(vpromedio, color='blue', label='Convergencia')\n",
        "plt.axhline(y=(promediogeneral), color='red', label='Promedio')\n",
        "plt.axhline(y=(promediogeneral*1.05), color='yellow', label='tolerancia +5')\n",
        "plt.axhline(y=(promediogeneral*0.95), color='yellow', label='tolerancia -5')\n",
        "plt.grid('on')\n",
        "plt.legend()\n",
        "plt.show()"
      ]
    },
    {
      "cell_type": "markdown",
      "metadata": {
        "id": "fbLpGh3-tYUn"
      },
      "source": [
        "para 800 iteraciones el valor del calculo del area se estabiliza, se sugiere calcular el area con al menos 700 iteraciones o mas\n"
      ]
    },
    {
      "cell_type": "markdown",
      "metadata": {
        "id": "wWGVCreNh8TN"
      },
      "source": [
        "# **`Ejercicio 7`**\n",
        "\n",
        "Ejercicio tipo parcial presencial\n",
        "\n",
        "Varios vehículos de carreras están probando un nuevo tipo de combustible en sus motores, los carros tienen eficiencias diferentes de acuerdo con las combinaciones detalladas en la tabla 1, Si el costo por Kilogramo de combustible es de 23 Euros y el gasto por pista detalla la eficiencia con una tolerancia la cual va de cero al valor de tolerancia con distribución uniforme (siempre incremental).\n",
        "Detallar el costo promedio de combustible por equipo en todas las pistas, usando al menos 100 réplicas.\n",
        "\n",
        "<center>\n",
        "\n",
        "**Tabla 1**\n",
        "\n",
        "Equipo|Vehículo|Eficiencia|Pista|Tolerancia\n",
        "---|---|---|---|---\n",
        "Ferrari|Ferrari SF21|84 Kg|Circuit de Barcelona-Catalunya|13 Kg\n",
        "McLaren|McLaren MCL35M|97 Kg|Circuit de Barcelona-Catalunya|6 Kg\n",
        "Mercedes|Mercedes-AMG F1 W12 E Performance|80 Kg|Circuit de Barcelona-Catalunya|5 Kg\n",
        "Red Bull|Red Bull RB16B|100 Kg|Circuit de Barcelona-Catalunya|5 Kg\n",
        "Ferrari|Ferrari SF21|91 Kg|Circuito de Suzuka|15 Kg\n",
        "McLaren|McLaren MCL35M|97 Kg|Circuito de Suzuka|10 Kg\n",
        "Mercedes|Mercedes-AMG F1 W12 E Performance|100 Kg|Circuito de Suzuka|5 Kg\n",
        "Red Bull|Red Bull RB16B|94 Kg|Circuito de Suzuka|8 Kg\n",
        "Ferrari|Ferrari SF21|93 Kg|Autódromo José Carlos Pace (Interlagos)|6 Kg\n",
        "McLaren|McLaren MCL35M|93 Kg|Autódromo José Carlos Pace (Interlagos)|14 Kg\n",
        "Mercedes|Mercedes-AMG F1 W12 E Performance|99 Kg|Autódromo José Carlos Pace (Interlagos)|14 Kg\n",
        "Red Bull|Red Bull RB16B|98 Kg|Autódromo José Carlos Pace (Interlagos)|14 Kg"
      ]
    },
    {
      "cell_type": "code",
      "execution_count": null,
      "metadata": {
        "colab": {
          "base_uri": "https://localhost:8080/"
        },
        "id": "hoKd_tVyoaag",
        "outputId": "58a209b2-b5ab-4583-b38f-bf3cc904e17c"
      },
      "outputs": [
        {
          "name": "stdout",
          "output_type": "stream",
          "text": [
            "6560.98 285.26\n",
            "6951.29 302.23\n",
            "6709.56 291.72\n",
            "7006.03 304.61\n",
            "106\n",
            "113\n",
            "107\n",
            "112\n"
          ]
        }
      ],
      "source": [
        "#Solucion\n",
        "coscom = 23\n",
        "cfe, cmc, cme, cre = 0,0,0,0\n",
        "equipo = ['Ferrari', 'McLaren', 'Mercedes', 'RedBull']\n",
        "pista = ['Circuit de Barcelona-Catalunya', 'Circuito de Suzuka', 'Autódromo José Carlos Pace (Interlagos)']\n",
        "ferrari = []\n",
        "mclaren = []\n",
        "mercedes = []\n",
        "redbull = []\n",
        "replicas = 100 #Cumplo con las 100 replicas\n",
        "for i in range(replicas):\n",
        "    for x in equipo:\n",
        "        for y in pista:\n",
        "            if x == 'Ferrari':\n",
        "                if y == 'Circuit de Barcelona-Catalunya':\n",
        "                    eficiencia = 84\n",
        "                    tolerancia = 13\n",
        "                    f = eficiencia + rnd.randint(0, tolerancia)\n",
        "                    ferrari.append(f)\n",
        "                    cfe = cfe + f #acumulando --> cfecatalunya\n",
        "                if y == 'Circuito de Suzuka':\n",
        "                    eficiencia = 91\n",
        "                    tolerancia = 15\n",
        "                    f = eficiencia + rnd.randint(0, tolerancia)\n",
        "                    ferrari.append(f)\n",
        "                    cfe = cfe + eficiencia + rnd.randint(0, tolerancia)\n",
        "                if y == 'Autódromo José Carlos Pace (Interlagos)':\n",
        "                    eficiencia = 93\n",
        "                    tolerancia = 6\n",
        "                    f = eficiencia + rnd.randint(0, tolerancia)\n",
        "                    ferrari.append(f)\n",
        "                    cfe = cfe + eficiencia + rnd.randint(0, tolerancia)\n",
        "            if x == 'McLaren':\n",
        "                if y == 'Circuit de Barcelona-Catalunya':\n",
        "                    eficiencia = 97\n",
        "                    tolerancia = 6\n",
        "                    mc = eficiencia + rnd.randint(0, tolerancia)\n",
        "                    mclaren.append(mc)\n",
        "                    cmc = cmc + eficiencia + rnd.randint(0, tolerancia)\n",
        "                if y == 'Circuito de Suzuka':\n",
        "                    eficiencia = 97\n",
        "                    tolerancia = 10\n",
        "                    mc = eficiencia + rnd.randint(0, tolerancia)\n",
        "                    mclaren.append(mc)\n",
        "                    cmc = cmc + eficiencia + rnd.randint(0, tolerancia)\n",
        "                if y == 'Autódromo José Carlos Pace (Interlagos)':\n",
        "                    eficiencia = 93\n",
        "                    tolerancia = 14\n",
        "                    mc = eficiencia + rnd.randint(0, tolerancia)\n",
        "                    mclaren.append(mc)\n",
        "                    cmc = cmc + eficiencia + rnd.randint(0, tolerancia)\n",
        "            if x == 'Mercedes':\n",
        "                if y == 'Circuit de Barcelona-Catalunya':\n",
        "                    eficiencia = 80\n",
        "                    tolerancia = 5\n",
        "                    me = eficiencia + rnd.randint(0, tolerancia)\n",
        "                    mercedes.append(me)\n",
        "                    cme = cme + eficiencia + rnd.randint(0, tolerancia)\n",
        "                if y == 'Circuito de Suzuka':\n",
        "                    eficiencia = 100\n",
        "                    tolerancia = 5\n",
        "                    me = eficiencia + rnd.randint(0, tolerancia)\n",
        "                    mercedes.append(me)\n",
        "                    cme = cme + eficiencia + rnd.randint(0, tolerancia)\n",
        "                if y == 'Autódromo José Carlos Pace (Interlagos)':\n",
        "                    eficiencia = 99\n",
        "                    tolerancia = 14\n",
        "                    me = eficiencia + rnd.randint(0, tolerancia)\n",
        "                    mercedes.append(me)\n",
        "                    cme = cme + eficiencia + rnd.randint(0, tolerancia)\n",
        "            if x == 'RedBull':\n",
        "                if y == 'Circuit de Barcelona-Catalunya':\n",
        "                    eficiencia = 100\n",
        "                    tolerancia = 5\n",
        "                    r = eficiencia + rnd.randint(0, tolerancia)\n",
        "                    redbull.append(r)\n",
        "                    cre = cre + eficiencia + rnd.randint(0, tolerancia)\n",
        "                if y == 'Circuito de Suzuka':\n",
        "                    eficiencia = 94\n",
        "                    tolerancia = 8\n",
        "                    r = eficiencia + rnd.randint(0, tolerancia)\n",
        "                    redbull.append(r)\n",
        "                    cre = cre + eficiencia + rnd.randint(0, tolerancia)\n",
        "                if y == 'Autódromo José Carlos Pace (Interlagos)':\n",
        "                    eficiencia = 98\n",
        "                    tolerancia = 14\n",
        "                    r = eficiencia + rnd.randint(0, tolerancia)\n",
        "                    redbull.append(r)\n",
        "                    cre = cre + eficiencia + rnd.randint(0, tolerancia)\n",
        "eficienciaferrari = (cfe*coscom)/replicas\n",
        "eficienciamclaren = (cmc*coscom)/replicas\n",
        "eficienciamercedes = (cme*coscom)/replicas\n",
        "eficienciaredbull = (cre*coscom)/replicas\n",
        "\n",
        "print(eficienciaferrari, cfe/replicas)\n",
        "print(eficienciamclaren, cmc/replicas)\n",
        "print(eficienciamercedes, cme/replicas)\n",
        "print(eficienciaredbull, cre/replicas)\n",
        "print(max(ferrari))\n",
        "print(max(mercedes))\n",
        "print(max(mclaren))\n",
        "print(max(redbull))"
      ]
    },
    {
      "cell_type": "markdown",
      "metadata": {
        "id": "UFbyu42bxFUH"
      },
      "source": [
        "el equipo con mejor desempeño en gasto de combustible por todas las pistas es ferrari"
      ]
    },
    {
      "cell_type": "markdown",
      "metadata": {
        "id": "GCukP5D8oc0Z"
      },
      "source": [
        "# **`Ejercicio 8`**\n",
        "\n",
        "Ejercicio tipo parcial presencial\n",
        "\n",
        "Una empresa de tecnología quiere evaluar si un videojuego tendrá el impacto esperado en el mercado. Para tal fin, la empresa distribuye 100 unidades de la consola a un grupo de videojugadores y cada jugador tiene la posibilidad de seleccionar dos de entre tres clases de juegos diferentes para hacer la prueba (ver tabla). Los jugadores, después de seleccionar la clase de juego, pueden jugar hasta 60 horas por clase de videojuego (tiempo continuo). Detalle todos los supuestos que considere necesarios para calcular el número medio de horas que jugará en total cada jugador e identificar cual es la clase de juego más jugada\n",
        "\n",
        "Clase videojuego | 1 | 2 | 3\n",
        "---|---|---|---\n",
        "Probabilidad de selección de clase de juego |<center>1/3| <center>3/8 | <center>7/24\n",
        "Tiempo de juego Opción 1 | p(0 < t <= 20) = 0.5 | p(0 < t < = 15) = 0.8 | p(0 < t < = 35) = 0.65\n",
        "Tiempo de juego Opción 2 | p(0 < t <= 20) = 0.5 p(20 <= t < 40) = 0.3 | p(15 <= t < 40) = 0.1 | p(t > 35) = 0.35\n",
        "Tiempo de juego Opción 3 | p(0 < t <= 20) = 0.5 p(t > 40) = 0.2 | p(t > 30) = 0.1 |"
      ]
    },
    {
      "cell_type": "code",
      "execution_count": null,
      "metadata": {
        "colab": {
          "base_uri": "https://localhost:8080/"
        },
        "id": "WNyaxR0srKgq",
        "outputId": "71bb155c-1fc6-473e-c4cc-bd218757cba5"
      },
      "outputs": [
        {
          "name": "stdout",
          "output_type": "stream",
          "text": [
            "Promedio Juego total\n",
            "37.240303160789644\n",
            "2 67\n"
          ]
        }
      ],
      "source": [
        "#Solucion\n",
        "iteraciones = 100\n",
        "seleccion1 = seleccion2 = seleccion3 = 0\n",
        "totalhorasjuego = totaljuego1 = totaljuego2 = totaljuego3 = 0\n",
        "horasjuego1 = horasjuego2 = horasjuego3 = 0\n",
        "promedio = []\n",
        "#Recomendacion, utilizar choice de la clase random, validar si el componente ya existe y seleccionar ver ↑\n",
        "for i in range(iteraciones):\n",
        "    dosjuegos = 0\n",
        "    #como seleccionar dos juegos sin choice y sin repetir\n",
        "    while dosjuegos != 2:\n",
        "        r = rnd.random()\n",
        "        if r < 8/24:\n",
        "            if seleccion1 == 0:\n",
        "                seleccion1 = 1\n",
        "        elif r < 17/24:\n",
        "            if seleccion2 == 0:\n",
        "                seleccion2 = 1\n",
        "        else:\n",
        "            if seleccion3 == 0:\n",
        "                seleccion3 = 1\n",
        "        dosjuegos = seleccion1 + seleccion2 + seleccion3\n",
        "    if seleccion1 == 1:\n",
        "        r = rnd.random()\n",
        "        if r < 0.5:\n",
        "            horasjuego1 = rnd.uniform(0,20)\n",
        "        elif r < 0.8:\n",
        "            horasjuego1 = rnd.uniform(20,40)\n",
        "        else:\n",
        "            horasjuego1 = rnd.uniform(40,60)\n",
        "    if seleccion2 == 1:\n",
        "        r = rnd.random()\n",
        "        if r < 0.8:\n",
        "            horasjuego2 = rnd.uniform(0,15)\n",
        "        elif r < 0.9:\n",
        "            horasjuego2 = rnd.uniform(15,40)\n",
        "        else:\n",
        "            horasjuego2 = rnd.uniform(40,60)\n",
        "    if seleccion3 == 1:\n",
        "        r = rnd.random()\n",
        "        if r < 0.65:\n",
        "            horasjuego2 = rnd.uniform(0,35)\n",
        "        else:\n",
        "            horasjuego2 = rnd.uniform(35,60)\n",
        "    totalhorasjuego += horasjuego1+horasjuego2+horasjuego3\n",
        "    totaljuego1 = totaljuego1 + seleccion1\n",
        "    totaljuego2 = totaljuego2 + seleccion2\n",
        "    totaljuego3 = totaljuego3 + seleccion3\n",
        "    promedio.append((horasjuego1+horasjuego2+horasjuego3)/2)\n",
        "    seleccion1 = 0\n",
        "    seleccion2 = 0\n",
        "    seleccion3 = 0\n",
        "    horasjuego1 = 0\n",
        "    horasjuego2 = 0\n",
        "    horasjuego3 = 0\n",
        "#calculamos el mas jugado\n",
        "if totaljuego1 > totaljuego2 and totaljuego1 > totaljuego3:\n",
        "    masjugado = 1\n",
        "elif totaljuego2 > totaljuego1 and totaljuego2 > totaljuego3:\n",
        "    masjugado = 2\n",
        "elif totaljuego3 > totaljuego1 and totaljuego3 > totaljuego2:\n",
        "    masjugado = 3\n",
        "elif totaljuego3 == totaljuego1 and totaljuego3 == totaljuego2:\n",
        "    masjugado = \"1, 2  3\"\n",
        "else:\n",
        "    masjugado = \"1 o 2 o 3\"\n",
        "\n",
        "print(\"Promedio Juego total\")\n",
        "print(totalhorasjuego / iteraciones)\n",
        "print(masjugado, totaljuego1)"
      ]
    },
    {
      "cell_type": "markdown",
      "metadata": {
        "id": "6ERbT41CjUG4"
      },
      "source": [
        "# **`Ejercicio 9`**\n",
        "\n",
        "Ejercicio tipo parcial presencial\n",
        "\n",
        "Simular la dispersión de un contaminante en una cuadrícula 2D de tamaño 100x100, partiendo del centro de la cuadrícula, durante 1000 pasos de tiempo, utilizando el vecindario de Moore para definir los posibles movimientos."
      ]
    },
    {
      "cell_type": "code",
      "execution_count": null,
      "metadata": {
        "colab": {
          "base_uri": "https://localhost:8080/",
          "height": 430
        },
        "id": "tRbhm2fDi1e0",
        "outputId": "29934d78-a9b1-4063-bf7e-081a0fa5556b"
      },
      "outputs": [
        {
          "data": {
            "image/png": "[encoded data removed]",
            "text/plain": [
              "<Figure size 500x500 with 2 Axes>"
            ]
          },
          "metadata": {},
          "output_type": "display_data"
        }
      ],
      "source": [
        "# Parámetros de la simulación\n",
        "num_pasos = 1000\n",
        "tamaño_cuadrícula = 100\n",
        "posicion_inicial = (tamaño_cuadrícula // 2, tamaño_cuadrícula // 2)  # Comenzar desde el centro\n",
        "\n",
        "# Inicializar la cuadrícula (todo en 0, sin contaminación)\n",
        "cuadrícula = np.zeros((tamaño_cuadrícula, tamaño_cuadrícula))\n",
        "\n",
        "# Direcciones de movimiento en el vecindario de Moore\n",
        "direcciones = [(1, 0), (1, 1), (0, 1), (-1, 1), (-1, 0), (-1, -1), (0, -1), (1, -1)]\n",
        "\n",
        "# Simular la dispersión del contaminante\n",
        "posicion_actual = posicion_inicial\n",
        "for _ in range(num_pasos):\n",
        "    # Registrar la posición actual como contaminada\n",
        "    cuadrícula[posicion_actual] += 1\n",
        "\n",
        "    # Elegir una dirección aleatoria y mover la partícula\n",
        "    direccion = direcciones[np.random.randint(0, len(direcciones))]\n",
        "    nueva_posicion = (posicion_actual[0] + direccion[0], posicion_actual[1] + direccion[1])\n",
        "\n",
        "    # Asegurar que la nueva posición esté dentro de los límites de la cuadrícula\n",
        "    nueva_posicion = (max(0, min(nueva_posicion[0], tamaño_cuadrícula - 1)),\n",
        "                      max(0, min(nueva_posicion[1], tamaño_cuadrícula - 1)))\n",
        "\n",
        "    posicion_actual = nueva_posicion\n",
        "\n",
        "# Visualizar la dispersión del contaminante\n",
        "plt.figure(figsize=(5, 5))\n",
        "plt.imshow(cuadrícula, cmap='viridis', interpolation='nearest')\n",
        "plt.colorbar(label='Nivel de Contaminación')\n",
        "plt.title('Contaminante')\n",
        "plt.xlabel('X')\n",
        "plt.ylabel('Y')\n",
        "plt.show()\n",
        "\n"
      ]
    },
    {
      "cell_type": "markdown",
      "metadata": {
        "id": "-2W2HBfVju_o"
      },
      "source": [
        "# **`Ejercicio 10`**\n",
        "\n",
        "Ejercicio tipo parcial presencial\n",
        "\n",
        "Simular el movimiento aleatorio de 10 agentes en una cuadrícula 2D de tamaño 200x200 durante 500 pasos de tiempo. Cada agente empezará desde una posición aleatoria y se moverá siguiendo el vecindario de Moore."
      ]
    },
    {
      "cell_type": "code",
      "execution_count": null,
      "metadata": {
        "colab": {
          "base_uri": "https://localhost:8080/",
          "height": 487
        },
        "id": "bhC_-W3cju_p",
        "outputId": "52e6fc5c-3fe3-4bfe-c36a-a60af05f343c"
      },
      "outputs": [
        {
          "data": {
            "image/png": "[encoded data removed]",
            "text/plain": [
              "<Figure size 500x500 with 1 Axes>"
            ]
          },
          "metadata": {},
          "output_type": "display_data"
        }
      ],
      "source": [
        "import numpy as np\n",
        "import matplotlib.pyplot as plt\n",
        "\n",
        "# Parámetros de la simulación\n",
        "num_agentes = 10\n",
        "num_pasos = 500\n",
        "tamaño_cuadrícula = 200\n",
        "\n",
        "# Inicializar posiciones de los agentes aleatoriamente\n",
        "posiciones = np.random.randint(tamaño_cuadrícula, size=(num_agentes, 2))\n",
        "\n",
        "# Direcciones de movimiento en el vecindario de Moore\n",
        "direcciones = [(1, 0), (1, 1), (0, 1), (-1, 1), (-1, 0), (-1, -1), (0, -1), (1, -1)]\n",
        "\n",
        "# Registrar todas las posiciones por paso de tiempo para visualización\n",
        "trayectorias = np.zeros((num_pasos, num_agentes, 2), dtype=np.int32)\n",
        "\n",
        "# Simular el movimiento de cada agente\n",
        "for paso in range(num_pasos):\n",
        "    for i, posicion in enumerate(posiciones):\n",
        "        # Elegir una dirección aleatoria y mover el agente\n",
        "        direccion = direcciones[np.random.randint(0, len(direcciones))]\n",
        "        nueva_posicion = posicion + np.array(direccion)\n",
        "\n",
        "        # Asegurar que la nueva posición esté dentro de los límites de la cuadrícula\n",
        "        nueva_posicion = np.clip(nueva_posicion, 0, tamaño_cuadrícula - 1)\n",
        "\n",
        "        # Actualizar la posición del agente\n",
        "        posiciones[i] = nueva_posicion\n",
        "\n",
        "        # Registrar la posición para visualización\n",
        "        trayectorias[paso, i] = nueva_posicion\n",
        "\n",
        "# Visualizar el movimiento de los agentes\n",
        "plt.figure(figsize=(5, 5))\n",
        "for i in range(num_agentes):\n",
        "    plt.plot(trayectorias[:, i, 0], trayectorias[:, i, 1], marker='', linestyle='-')\n",
        "plt.title('Movimiento Aleatorio de Agentes en 2D')\n",
        "plt.xlim(0, tamaño_cuadrícula)\n",
        "plt.ylim(0, tamaño_cuadrícula)\n",
        "plt.xlabel('X')\n",
        "plt.ylabel('Y')\n",
        "plt.show()\n",
        "\n"
      ]
    }
  ],
  "metadata": {
    "colab": {
      "provenance": []
    },
    "kernelspec": {
      "display_name": "Python 3",
      "name": "python3"
    },
    "language_info": {
      "name": "python"
    }
  },
  "nbformat": 4,
  "nbformat_minor": 0
}
